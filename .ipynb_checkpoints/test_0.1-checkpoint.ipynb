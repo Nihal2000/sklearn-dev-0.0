{
 "cells": [
  {
   "cell_type": "code",
   "execution_count": 1,
   "metadata": {},
   "outputs": [],
   "source": [
    "import sklearn\n",
    "from sklearn.tree import LinearDecisionTreeRegressor as ldtr\n",
    "from sklearn.linear_model import LinearRegression\n",
    "from sklearn.svm import LinearSVR\n",
    "from sklearn.svm import SVR\n",
    "from sklearn.tree import DecisionTreeRegressor\n",
    "\n",
    "import numpy as np\n",
    "import pandas as pd\n",
    "import matplotlib.pyplot as plt\n",
    "from sklearn.metrics import mean_squared_error\n",
    "from sklearn import datasets\n",
    "from sklearn.pipeline import make_pipeline\n",
    "from sklearn.preprocessing import StandardScaler\n",
    "from sklearn.datasets import make_regression\n",
    "from sklearn.model_selection import train_test_split"
   ]
  },
  {
   "cell_type": "code",
   "execution_count": 2,
   "metadata": {},
   "outputs": [],
   "source": [
    "data = pd.read_csv('./insurance.csv')"
   ]
  },
  {
   "cell_type": "code",
   "execution_count": 3,
   "metadata": {},
   "outputs": [
    {
     "data": {
      "text/html": [
       "<div>\n",
       "<style scoped>\n",
       "    .dataframe tbody tr th:only-of-type {\n",
       "        vertical-align: middle;\n",
       "    }\n",
       "\n",
       "    .dataframe tbody tr th {\n",
       "        vertical-align: top;\n",
       "    }\n",
       "\n",
       "    .dataframe thead th {\n",
       "        text-align: right;\n",
       "    }\n",
       "</style>\n",
       "<table border=\"1\" class=\"dataframe\">\n",
       "  <thead>\n",
       "    <tr style=\"text-align: right;\">\n",
       "      <th></th>\n",
       "      <th>age</th>\n",
       "      <th>sex</th>\n",
       "      <th>bmi</th>\n",
       "      <th>children</th>\n",
       "      <th>smoker</th>\n",
       "      <th>region</th>\n",
       "      <th>charges</th>\n",
       "    </tr>\n",
       "  </thead>\n",
       "  <tbody>\n",
       "    <tr>\n",
       "      <th>0</th>\n",
       "      <td>19</td>\n",
       "      <td>female</td>\n",
       "      <td>27.900</td>\n",
       "      <td>0</td>\n",
       "      <td>yes</td>\n",
       "      <td>southwest</td>\n",
       "      <td>16884.92400</td>\n",
       "    </tr>\n",
       "    <tr>\n",
       "      <th>1</th>\n",
       "      <td>18</td>\n",
       "      <td>male</td>\n",
       "      <td>33.770</td>\n",
       "      <td>1</td>\n",
       "      <td>no</td>\n",
       "      <td>southeast</td>\n",
       "      <td>1725.55230</td>\n",
       "    </tr>\n",
       "    <tr>\n",
       "      <th>2</th>\n",
       "      <td>28</td>\n",
       "      <td>male</td>\n",
       "      <td>33.000</td>\n",
       "      <td>3</td>\n",
       "      <td>no</td>\n",
       "      <td>southeast</td>\n",
       "      <td>4449.46200</td>\n",
       "    </tr>\n",
       "    <tr>\n",
       "      <th>3</th>\n",
       "      <td>33</td>\n",
       "      <td>male</td>\n",
       "      <td>22.705</td>\n",
       "      <td>0</td>\n",
       "      <td>no</td>\n",
       "      <td>northwest</td>\n",
       "      <td>21984.47061</td>\n",
       "    </tr>\n",
       "    <tr>\n",
       "      <th>4</th>\n",
       "      <td>32</td>\n",
       "      <td>male</td>\n",
       "      <td>28.880</td>\n",
       "      <td>0</td>\n",
       "      <td>no</td>\n",
       "      <td>northwest</td>\n",
       "      <td>3866.85520</td>\n",
       "    </tr>\n",
       "  </tbody>\n",
       "</table>\n",
       "</div>"
      ],
      "text/plain": [
       "   age     sex     bmi  children smoker     region      charges\n",
       "0   19  female  27.900         0    yes  southwest  16884.92400\n",
       "1   18    male  33.770         1     no  southeast   1725.55230\n",
       "2   28    male  33.000         3     no  southeast   4449.46200\n",
       "3   33    male  22.705         0     no  northwest  21984.47061\n",
       "4   32    male  28.880         0     no  northwest   3866.85520"
      ]
     },
     "execution_count": 3,
     "metadata": {},
     "output_type": "execute_result"
    }
   ],
   "source": [
    "data.head()"
   ]
  },
  {
   "cell_type": "code",
   "execution_count": 4,
   "metadata": {},
   "outputs": [],
   "source": [
    "from sklearn.preprocessing import LabelEncoder\n",
    "\n",
    "le = LabelEncoder()\n",
    "\n",
    "#for sex column\n",
    "le.fit(data.sex.drop_duplicates())\n",
    "data.sex = le.transform(data.sex)\n",
    "\n",
    "#for smoker column\n",
    "le.fit(data.smoker.drop_duplicates())\n",
    "data.smoker = le.transform(data.smoker)\n",
    "\n",
    "#for region column\n",
    "le.fit(data.region.drop_duplicates())\n",
    "data.region = le.transform(data.region)"
   ]
  },
  {
   "cell_type": "code",
   "execution_count": 5,
   "metadata": {},
   "outputs": [
    {
     "data": {
      "text/html": [
       "<div>\n",
       "<style scoped>\n",
       "    .dataframe tbody tr th:only-of-type {\n",
       "        vertical-align: middle;\n",
       "    }\n",
       "\n",
       "    .dataframe tbody tr th {\n",
       "        vertical-align: top;\n",
       "    }\n",
       "\n",
       "    .dataframe thead th {\n",
       "        text-align: right;\n",
       "    }\n",
       "</style>\n",
       "<table border=\"1\" class=\"dataframe\">\n",
       "  <thead>\n",
       "    <tr style=\"text-align: right;\">\n",
       "      <th></th>\n",
       "      <th>age</th>\n",
       "      <th>sex</th>\n",
       "      <th>bmi</th>\n",
       "      <th>children</th>\n",
       "      <th>smoker</th>\n",
       "      <th>region</th>\n",
       "      <th>charges</th>\n",
       "    </tr>\n",
       "  </thead>\n",
       "  <tbody>\n",
       "    <tr>\n",
       "      <th>age</th>\n",
       "      <td>1.000000</td>\n",
       "      <td>-0.020856</td>\n",
       "      <td>0.109272</td>\n",
       "      <td>0.042469</td>\n",
       "      <td>-0.025019</td>\n",
       "      <td>0.002127</td>\n",
       "      <td>0.299008</td>\n",
       "    </tr>\n",
       "    <tr>\n",
       "      <th>sex</th>\n",
       "      <td>-0.020856</td>\n",
       "      <td>1.000000</td>\n",
       "      <td>0.046371</td>\n",
       "      <td>0.017163</td>\n",
       "      <td>0.076185</td>\n",
       "      <td>0.004588</td>\n",
       "      <td>0.057292</td>\n",
       "    </tr>\n",
       "    <tr>\n",
       "      <th>bmi</th>\n",
       "      <td>0.109272</td>\n",
       "      <td>0.046371</td>\n",
       "      <td>1.000000</td>\n",
       "      <td>0.012759</td>\n",
       "      <td>0.003750</td>\n",
       "      <td>0.157566</td>\n",
       "      <td>0.198341</td>\n",
       "    </tr>\n",
       "    <tr>\n",
       "      <th>children</th>\n",
       "      <td>0.042469</td>\n",
       "      <td>0.017163</td>\n",
       "      <td>0.012759</td>\n",
       "      <td>1.000000</td>\n",
       "      <td>0.007673</td>\n",
       "      <td>0.016569</td>\n",
       "      <td>0.067998</td>\n",
       "    </tr>\n",
       "    <tr>\n",
       "      <th>smoker</th>\n",
       "      <td>-0.025019</td>\n",
       "      <td>0.076185</td>\n",
       "      <td>0.003750</td>\n",
       "      <td>0.007673</td>\n",
       "      <td>1.000000</td>\n",
       "      <td>-0.002181</td>\n",
       "      <td>0.787251</td>\n",
       "    </tr>\n",
       "    <tr>\n",
       "      <th>region</th>\n",
       "      <td>0.002127</td>\n",
       "      <td>0.004588</td>\n",
       "      <td>0.157566</td>\n",
       "      <td>0.016569</td>\n",
       "      <td>-0.002181</td>\n",
       "      <td>1.000000</td>\n",
       "      <td>-0.006208</td>\n",
       "    </tr>\n",
       "    <tr>\n",
       "      <th>charges</th>\n",
       "      <td>0.299008</td>\n",
       "      <td>0.057292</td>\n",
       "      <td>0.198341</td>\n",
       "      <td>0.067998</td>\n",
       "      <td>0.787251</td>\n",
       "      <td>-0.006208</td>\n",
       "      <td>1.000000</td>\n",
       "    </tr>\n",
       "  </tbody>\n",
       "</table>\n",
       "</div>"
      ],
      "text/plain": [
       "               age       sex       bmi  children    smoker    region   charges\n",
       "age       1.000000 -0.020856  0.109272  0.042469 -0.025019  0.002127  0.299008\n",
       "sex      -0.020856  1.000000  0.046371  0.017163  0.076185  0.004588  0.057292\n",
       "bmi       0.109272  0.046371  1.000000  0.012759  0.003750  0.157566  0.198341\n",
       "children  0.042469  0.017163  0.012759  1.000000  0.007673  0.016569  0.067998\n",
       "smoker   -0.025019  0.076185  0.003750  0.007673  1.000000 -0.002181  0.787251\n",
       "region    0.002127  0.004588  0.157566  0.016569 -0.002181  1.000000 -0.006208\n",
       "charges   0.299008  0.057292  0.198341  0.067998  0.787251 -0.006208  1.000000"
      ]
     },
     "execution_count": 5,
     "metadata": {},
     "output_type": "execute_result"
    }
   ],
   "source": [
    "data.corr()"
   ]
  },
  {
   "cell_type": "code",
   "execution_count": 6,
   "metadata": {},
   "outputs": [
    {
     "data": {
      "text/html": [
       "<div>\n",
       "<style scoped>\n",
       "    .dataframe tbody tr th:only-of-type {\n",
       "        vertical-align: middle;\n",
       "    }\n",
       "\n",
       "    .dataframe tbody tr th {\n",
       "        vertical-align: top;\n",
       "    }\n",
       "\n",
       "    .dataframe thead th {\n",
       "        text-align: right;\n",
       "    }\n",
       "</style>\n",
       "<table border=\"1\" class=\"dataframe\">\n",
       "  <thead>\n",
       "    <tr style=\"text-align: right;\">\n",
       "      <th></th>\n",
       "      <th>age</th>\n",
       "      <th>sex</th>\n",
       "      <th>bmi</th>\n",
       "      <th>children</th>\n",
       "      <th>smoker</th>\n",
       "      <th>region</th>\n",
       "      <th>charges</th>\n",
       "    </tr>\n",
       "  </thead>\n",
       "  <tbody>\n",
       "    <tr>\n",
       "      <th>0</th>\n",
       "      <td>19</td>\n",
       "      <td>0</td>\n",
       "      <td>27.900</td>\n",
       "      <td>0</td>\n",
       "      <td>1</td>\n",
       "      <td>3</td>\n",
       "      <td>16884.92400</td>\n",
       "    </tr>\n",
       "    <tr>\n",
       "      <th>1</th>\n",
       "      <td>18</td>\n",
       "      <td>1</td>\n",
       "      <td>33.770</td>\n",
       "      <td>1</td>\n",
       "      <td>0</td>\n",
       "      <td>2</td>\n",
       "      <td>1725.55230</td>\n",
       "    </tr>\n",
       "    <tr>\n",
       "      <th>2</th>\n",
       "      <td>28</td>\n",
       "      <td>1</td>\n",
       "      <td>33.000</td>\n",
       "      <td>3</td>\n",
       "      <td>0</td>\n",
       "      <td>2</td>\n",
       "      <td>4449.46200</td>\n",
       "    </tr>\n",
       "    <tr>\n",
       "      <th>3</th>\n",
       "      <td>33</td>\n",
       "      <td>1</td>\n",
       "      <td>22.705</td>\n",
       "      <td>0</td>\n",
       "      <td>0</td>\n",
       "      <td>1</td>\n",
       "      <td>21984.47061</td>\n",
       "    </tr>\n",
       "    <tr>\n",
       "      <th>4</th>\n",
       "      <td>32</td>\n",
       "      <td>1</td>\n",
       "      <td>28.880</td>\n",
       "      <td>0</td>\n",
       "      <td>0</td>\n",
       "      <td>1</td>\n",
       "      <td>3866.85520</td>\n",
       "    </tr>\n",
       "  </tbody>\n",
       "</table>\n",
       "</div>"
      ],
      "text/plain": [
       "   age  sex     bmi  children  smoker  region      charges\n",
       "0   19    0  27.900         0       1       3  16884.92400\n",
       "1   18    1  33.770         1       0       2   1725.55230\n",
       "2   28    1  33.000         3       0       2   4449.46200\n",
       "3   33    1  22.705         0       0       1  21984.47061\n",
       "4   32    1  28.880         0       0       1   3866.85520"
      ]
     },
     "execution_count": 6,
     "metadata": {},
     "output_type": "execute_result"
    }
   ],
   "source": [
    "data.head()"
   ]
  },
  {
   "cell_type": "code",
   "execution_count": 7,
   "metadata": {},
   "outputs": [],
   "source": [
    "X = data.drop(['charges','age','children','region', 'sex'],axis = 1)\n",
    "y = data.charges\n",
    "X = np.array(X)\n",
    "y = np.array(y)"
   ]
  },
  {
   "cell_type": "code",
   "execution_count": 8,
   "metadata": {},
   "outputs": [],
   "source": [
    "X = data.drop(['charges'],axis = 1)\n",
    "y = data.charges\n",
    "X = np.array(X)\n",
    "y = np.array(y)"
   ]
  },
  {
   "cell_type": "code",
   "execution_count": 9,
   "metadata": {},
   "outputs": [],
   "source": [
    "X_train,X_test,y_train,y_test = train_test_split(X,y,test_size = 0.2)"
   ]
  },
  {
   "cell_type": "code",
   "execution_count": 10,
   "metadata": {},
   "outputs": [
    {
     "name": "stdout",
     "output_type": "stream",
     "text": [
      "(1070, 6)\n",
      "(268, 6)\n",
      "(1070,)\n",
      "(268,)\n"
     ]
    }
   ],
   "source": [
    "print(X_train.shape)\n",
    "print(X_test.shape)\n",
    "print(y_train.shape)\n",
    "print(y_test.shape)"
   ]
  },
  {
   "cell_type": "code",
   "execution_count": 16,
   "metadata": {},
   "outputs": [],
   "source": [
    "reg1 = ldtr(max_depth = 3)\n",
    "reg2 = LinearRegression(n_jobs = -1)\n",
    "reg3 = LinearSVR()\n",
    "reg4 = SVR(kernel = 'linear')\n",
    "reg5 = DecisionTreeRegressor(max_depth = 3)"
   ]
  },
  {
   "cell_type": "code",
   "execution_count": 17,
   "metadata": {
    "scrolled": true
   },
   "outputs": [
    {
     "name": "stdout",
     "output_type": "stream",
     "text": [
      "linear Best 634 43.5\n",
      "267935840.0 268614000.0 267935840.0\n",
      "267935840.0 268614000.0 267935840.0\n",
      "267935840.0 268614000.0 267935840.0\n",
      "267935840.0 268614000.0 267935840.0\n",
      "267935840.0 268614000.0 267935840.0\n",
      "Decision Best 851 0.5\n",
      "170308420.0 170308420.0 267935840.0\n",
      "4 851\n",
      "Decision Best 573 1.5\n",
      "71284610.0 71284610.0 72155160.0\n",
      "Decision Best 573 1.5\n",
      "71284610.0 71284610.0 73718190.0\n",
      "Decision Best 573 1.5\n",
      "71284610.0 71284610.0 73718190.0\n",
      "Decision Best 573 1.5\n",
      "71284610.0 71284610.0 72844900.0\n",
      "Decision Best 483 42.5\n",
      "43426104.0 43426104.0 72844900.0\n",
      "Decision Best 483 42.5\n",
      "43426104.0 43426104.0 72844900.0\n",
      "0 483\n",
      "Decision Best 231 0.5\n",
      "38967800.0 38967800.0 38967800.0\n",
      "linear Best 370 2.5\n",
      "36531064.0 38789056.0 36531064.0\n",
      "Decision Best 232 27.5\n",
      "36322476.0 36322476.0 36531064.0\n",
      "Decision Best 232 27.5\n",
      "36322476.0 36322476.0 38998890.0\n",
      "Decision Best 204 0.5\n",
      "34749930.0 34749930.0 38998890.0\n",
      "3 204\n",
      "linear Best 838 3.5\n",
      "33984300.0 37662264.0 33984300.0\n",
      "Decision Best 517 23.607500076293945\n",
      "30053028.0 30053028.0 34094736.0\n",
      "Decision Best 637 51.5\n",
      "33392808.0 33392808.0 34094736.0\n",
      "Decision Best 637 51.5\n",
      "33392808.0 33392808.0 34094736.0\n",
      "Decision Best 637 51.5\n",
      "33392808.0 33392808.0 34094736.0\n",
      "0 637\n",
      "Decision Best 637 51.5\n",
      "inf inf inf\n",
      "Decision Best 935 0.5\n",
      "27608408.0 27608408.0 27608408.0\n",
      "Decision Best 981 42.5\n",
      "27050856.0 27050856.0 27859776.0\n",
      "Decision Best 981 42.5\n",
      "27050856.0 27050856.0 27859776.0\n",
      "27050856.0 27924104.0 27725134.0\n",
      "27050856.0 27924104.0 27725134.0\n",
      "0 981\n",
      "Decision Best 900 0.5\n",
      "30136436.0 30136436.0 30136436.0\n",
      "Decision Best 903 0.5\n",
      "30003040.0 30003040.0 30136436.0\n",
      "Decision Best 903 0.5\n",
      "30003040.0 30003040.0 30338596.0\n",
      "Decision Best 916 29.914999961853027\n",
      "30961102.0 30961102.0 30976168.0\n",
      "Decision Best 916 29.914999961853027\n",
      "30961102.0 30961102.0 30976168.0\n",
      "2 916\n",
      "Decision Best 1010 0.5\n",
      "31882220.0 31882220.0 31882220.0\n",
      "Decision Best 1027 1.5\n",
      "33215622.0 33215622.0 33527020.0\n",
      "Decision Best 1027 1.5\n",
      "33215622.0 33215622.0 33527020.0\n",
      "Decision Best 1019 30.015000343322754\n",
      "31504454.0 31504454.0 33089904.0\n",
      "Decision Best 1019 30.015000343322754\n",
      "31504454.0 31504454.0 33089904.0\n",
      "2 1019\n",
      "4 851\n",
      "0 483\n",
      "3 204\n",
      "0 637\n",
      "2 954\n",
      "0 911\n",
      "0 1018\n"
     ]
    },
    {
     "data": {
      "text/plain": [
       "DecisionTreeRegressor(max_depth=3)"
      ]
     },
     "execution_count": 17,
     "metadata": {},
     "output_type": "execute_result"
    }
   ],
   "source": [
    "reg1.fit(X_train, y_train)\n",
    "reg2.fit(X_train, y_train)\n",
    "reg3.fit(X_train, y_train)\n",
    "reg4.fit(X_train, y_train)\n",
    "reg5.fit(X_train, y_train)"
   ]
  },
  {
   "cell_type": "code",
   "execution_count": 18,
   "metadata": {},
   "outputs": [
    {
     "data": {
      "text/plain": [
       "array([  263.99932962,    78.17892114,   311.46346738,   469.22165976,\n",
       "       23840.07586431,  -254.98081405])"
      ]
     },
     "execution_count": 18,
     "metadata": {},
     "output_type": "execute_result"
    }
   ],
   "source": [
    "reg2.coef_"
   ]
  },
  {
   "cell_type": "code",
   "execution_count": 19,
   "metadata": {},
   "outputs": [],
   "source": [
    "y_pred1 = reg1.predict(X_test)\n",
    "y_pred2 = reg2.predict(X_test)\n",
    "y_pred3 = reg3.predict(X_test)\n",
    "y_pred4 = reg4.predict(X_test)\n",
    "y_pred5 = reg5.predict(X_test)"
   ]
  },
  {
   "cell_type": "code",
   "execution_count": 20,
   "metadata": {
    "scrolled": true
   },
   "outputs": [
    {
     "name": "stdout",
     "output_type": "stream",
     "text": [
      "Mean squared error: 20526617.79\n",
      "Mean squared error: 35777060.69\n",
      "Mean squared error: 164025652.25\n",
      "Mean squared error: 163161808.69\n",
      "Mean squared error: 24607479.82\n"
     ]
    }
   ],
   "source": [
    "print('Mean squared error: %.2f'% mean_squared_error(y_test, y_pred1))\n",
    "print('Mean squared error: %.2f'% mean_squared_error(y_test, y_pred2))\n",
    "print('Mean squared error: %.2f'% mean_squared_error(y_test, y_pred3))\n",
    "print('Mean squared error: %.2f'% mean_squared_error(y_test, y_pred4))\n",
    "print('Mean squared error: %.2f'% mean_squared_error(y_test, y_pred5))"
   ]
  },
  {
   "cell_type": "code",
   "execution_count": 21,
   "metadata": {},
   "outputs": [
    {
     "data": {
      "image/png": "[encoded data removed]",
      "text/plain": [
       "<Figure size 432x288 with 1 Axes>"
      ]
     },
     "metadata": {
      "needs_background": "light"
     },
     "output_type": "display_data"
    },
    {
     "data": {
      "image/png": "[encoded data removed]",
      "text/plain": [
       "<Figure size 432x288 with 1 Axes>"
      ]
     },
     "metadata": {
      "needs_background": "light"
     },
     "output_type": "display_data"
    },
    {
     "data": {
      "image/png": "[encoded data removed]",
      "text/plain": [
       "<Figure size 432x288 with 1 Axes>"
      ]
     },
     "metadata": {
      "needs_background": "light"
     },
     "output_type": "display_data"
    },
    {
     "data": {
      "image/png": "[encoded data removed]",
      "text/plain": [
       "<Figure size 432x288 with 1 Axes>"
      ]
     },
     "metadata": {
      "needs_background": "light"
     },
     "output_type": "display_data"
    },
    {
     "data": {
      "image/png": "[encoded data removed]",
      "text/plain": [
       "<Figure size 432x288 with 1 Axes>"
      ]
     },
     "metadata": {
      "needs_background": "light"
     },
     "output_type": "display_data"
    },
    {
     "data": {
      "image/png": "[encoded data removed]",
      "text/plain": [
       "<Figure size 432x288 with 1 Axes>"
      ]
     },
     "metadata": {
      "needs_background": "light"
     },
     "output_type": "display_data"
    }
   ],
   "source": [
    "for i in range(X_train.shape[1]):\n",
    "    plt.scatter(X_train[:, i], y_train,  color='black')\n",
    "    plt.scatter(X_train[:, i], reg1.predict(X_train),  color='blue')\n",
    "    plt.scatter(X_train[:, i], reg5.predict(X_train),  color='green')\n",
    "    plt.show()"
   ]
  },
  {
   "cell_type": "code",
   "execution_count": null,
   "metadata": {},
   "outputs": [],
   "source": []
  },
  {
   "cell_type": "code",
   "execution_count": null,
   "metadata": {},
   "outputs": [],
   "source": []
  },
  {
   "cell_type": "code",
   "execution_count": null,
   "metadata": {},
   "outputs": [],
   "source": []
  }
 ],
 "metadata": {
  "kernelspec": {
   "display_name": "Python 3",
   "language": "python",
   "name": "python3"
  },
  "language_info": {
   "codemirror_mode": {
    "name": "ipython",
    "version": 3
   },
   "file_extension": ".py",
   "mimetype": "text/x-python",
   "name": "python",
   "nbconvert_exporter": "python",
   "pygments_lexer": "ipython3",
   "version": "3.8.3"
  }
 },
 "nbformat": 4,
 "nbformat_minor": 4
}

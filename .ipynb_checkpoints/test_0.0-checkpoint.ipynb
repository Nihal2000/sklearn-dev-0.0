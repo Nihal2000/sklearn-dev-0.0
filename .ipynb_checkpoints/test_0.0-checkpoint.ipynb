{
 "cells": [
  {
   "cell_type": "code",
   "execution_count": 1,
   "metadata": {},
   "outputs": [],
   "source": [
    "import sklearn"
   ]
  },
  {
   "cell_type": "code",
   "execution_count": 2,
   "metadata": {},
   "outputs": [],
   "source": [
    "from sklearn.tree import LinearDecisionTreeRegressor as ldtr\n",
    "from sklearn.linear_model import LinearRegression\n",
    "from sklearn.svm import LinearSVR\n",
    "from sklearn.svm import SVR\n",
    "from sklearn.tree import DecisionTreeRegressor\n",
    "\n",
    "import numpy as np\n",
    "import pandas as pd\n",
    "import matplotlib.pyplot as plt\n",
    "from sklearn.metrics import mean_squared_error\n",
    "from sklearn import datasets\n",
    "from sklearn.pipeline import make_pipeline\n",
    "from sklearn.preprocessing import StandardScaler\n",
    "from sklearn.datasets import make_regression\n",
    "from sklearn.model_selection import train_test_split"
   ]
  },
  {
   "cell_type": "code",
   "execution_count": 5,
   "metadata": {},
   "outputs": [],
   "source": [
    "X,y = datasets.load_diabetes(return_X_y=True)\n",
    "X = X[:, np.newaxis, 2]\n",
    "X_train = X[:-20]\n",
    "X_test = X[-20:]\n",
    "y_train = y[:-20]\n",
    "y_test = y[-20:]"
   ]
  },
  {
   "cell_type": "code",
   "execution_count": 52,
   "metadata": {},
   "outputs": [],
   "source": [
    "X, y = make_regression(n_features=4, random_state=0)\n",
    "X_train, X_test, y_train, y_test = train_test_split(X,y,test_size = 0.2)"
   ]
  },
  {
   "cell_type": "code",
   "execution_count": 45,
   "metadata": {},
   "outputs": [],
   "source": [
    "m = 150\n",
    "#np.random.seed(42)\n",
    "X = np.random.rand(m, 3)\n",
    "X= np.sort(X, axis= 0)\n",
    "y = 4 * (X[:, 0] - 0.5) ** 2 + 6 * (X[:, 1] - 0.5)**2 + 2 * (X[:, 2] - 0.5)**2\n",
    "y = y + np.random.randn(m,) / 10\n",
    "X_train, X_test, y_train, y_test = train_test_split(X,y,test_size = 0.2)"
   ]
  },
  {
   "cell_type": "code",
   "execution_count": 53,
   "metadata": {},
   "outputs": [
    {
     "data": {
      "text/plain": [
       "(80, 4)"
      ]
     },
     "execution_count": 53,
     "metadata": {},
     "output_type": "execute_result"
    }
   ],
   "source": [
    "X_train.shape"
   ]
  },
  {
   "cell_type": "code",
   "execution_count": 63,
   "metadata": {},
   "outputs": [],
   "source": [
    "reg1 = ldtr(max_depth = 5)\n",
    "reg2 = LinearRegression(normalize = True,n_jobs = -1)\n",
    "reg3 = LinearSVR()\n",
    "reg4 = SVR(kernel = 'linear')\n",
    "reg5 = DecisionTreeRegressor(max_depth = 2)"
   ]
  },
  {
   "cell_type": "code",
   "execution_count": 64,
   "metadata": {},
   "outputs": [
    {
     "name": "stdout",
     "output_type": "stream",
     "text": [
      "hello\n",
      "1\n",
      "Tree: 1 1\n",
      "3 25\n",
      "2 12\n",
      "0 8\n",
      "1 4\n",
      "0 4\n",
      "0 8\n",
      "0 12\n",
      "1 17\n",
      "0 17\n",
      "1 21\n",
      "0 21\n",
      "0 25\n",
      "2 49\n",
      "1 39\n",
      "1 35\n",
      "0 31\n",
      "0 39\n",
      "3 44\n",
      "0 44\n",
      "0 49\n",
      "2 73\n",
      "1 53\n",
      "0 53\n",
      "3 67\n",
      "0 80\n",
      "(25, 4) (25,)\n",
      "(12, 4) (12,)\n",
      "(8, 4) (8,)\n",
      "(4, 4) (4,)\n",
      "1 4 38.82074883390421 -209.78606393399627\n",
      "1 5 -43.07737813247516 -180.04569393197636\n",
      "0 6 132.03130201811547 -278.90127413015375\n",
      "(5, 4) (5,)\n",
      "1 8 79.82716243231546 11.91287986063243\n",
      "(4, 4) (4,)\n",
      "1 10 -43.47812771276498 -55.09303536207675\n",
      "1 11 -16.31078033283839 -14.056379538991024\n",
      "(24, 4) (24,)\n",
      "(14, 4) (14,)\n",
      "(10, 4) (10,)\n",
      "(6, 4) (6,)\n",
      "0 16 -9.825780394766163 -73.87123694051114\n",
      "0 17 37.557780909635206 -120.70233764444245\n",
      "1 18 199.24408862681116 30.19631439196374\n",
      "(5, 4) (5,)\n",
      "3 20 -5.496375616563942 3.6621439104149998\n",
      "3 21 -44.03088215431545 152.90119744283902\n",
      "(24, 4) (24,)\n",
      "(4, 4) (4,)\n",
      "1 24 -75.26037827273585 -103.77048111918339\n",
      "(14, 4) (14,)\n",
      "3 26 37.47098024022171 69.13544463376952\n",
      "3 27 18.527219498219186 98.06285425765722\n",
      "2 28 17.568513172609087 172.89806218528537\n",
      "None\n",
      "0\n",
      "Tree: 0 0\n",
      "3 25\n",
      "2 12\n",
      "2 49\n"
     ]
    },
    {
     "data": {
      "text/plain": [
       "DecisionTreeRegressor(max_depth=2)"
      ]
     },
     "execution_count": 64,
     "metadata": {},
     "output_type": "execute_result"
    }
   ],
   "source": [
    "reg1.fit(X_train, y_train)\n",
    "reg2.fit(X_train, y_train)\n",
    "reg3.fit(X_train, y_train)\n",
    "reg4.fit(X_train, y_train)\n",
    "reg5.fit(X_train, y_train)"
   ]
  },
  {
   "cell_type": "code",
   "execution_count": 65,
   "metadata": {},
   "outputs": [],
   "source": [
    "y_pred1 = reg1.predict(X_test)\n",
    "y_pred2 = reg2.predict(X_test)\n",
    "y_pred3 = reg3.predict(X_test)\n",
    "y_pred4 = reg4.predict(X_test)\n",
    "y_pred5 = reg5.predict(X_test)"
   ]
  },
  {
   "cell_type": "code",
   "execution_count": 66,
   "metadata": {},
   "outputs": [
    {
     "name": "stdout",
     "output_type": "stream",
     "text": [
      "Mean squared error: 5083.22\n",
      "Mean squared error: 0.00\n",
      "Mean squared error: 2296.07\n",
      "Mean squared error: 2329.01\n",
      "Mean squared error: 9092.25\n"
     ]
    }
   ],
   "source": [
    "print('Mean squared error: %.2f'% mean_squared_error(y_test, y_pred1))\n",
    "print('Mean squared error: %.2f'% mean_squared_error(y_test, y_pred2))\n",
    "print('Mean squared error: %.2f'% mean_squared_error(y_test, y_pred3))\n",
    "print('Mean squared error: %.2f'% mean_squared_error(y_test, y_pred4))\n",
    "print('Mean squared error: %.2f'% mean_squared_error(y_test, y_pred5))"
   ]
  },
  {
   "cell_type": "code",
   "execution_count": 69,
   "metadata": {},
   "outputs": [
    {
     "data": {
      "image/png": "[encoded data removed]",
      "text/plain": [
       "<Figure size 432x288 with 1 Axes>"
      ]
     },
     "metadata": {
      "needs_background": "light"
     },
     "output_type": "display_data"
    }
   ],
   "source": [
    "plt.scatter(X_train[:, 2], y_train,  color='black')\n",
    "plt.scatter(X_train[:, 2], reg1.predict(X_train),  color='blue')\n",
    "plt.scatter(X_train[:, 2], reg4.predict(X_train),  color='green')\n",
    "plt.show()"
   ]
  },
  {
   "cell_type": "code",
   "execution_count": null,
   "metadata": {},
   "outputs": [],
   "source": [
    "plt.scatter(diabetes_X_test, diabetes_y_test,  color='black')\n",
    "plt.scatter(diabetes_X_test, y_pred1, color='blue')\n",
    "plt.show()\n",
    "\n",
    "plt.scatter(diabetes_X_test, diabetes_y_test,  color='black')\n",
    "plt.scatter(diabetes_X_test,y_pred2, color='orange')\n",
    "plt.show()\n",
    "\n",
    "plt.scatter(diabetes_X_test, diabetes_y_test,  color='black')\n",
    "plt.scatter(diabetes_X_test,y_pred3, color='red')\n",
    "plt.show()\n",
    "\n",
    "plt.scatter(diabetes_X_test, diabetes_y_test,  color='black')\n",
    "plt.scatter(diabetes_X_test, y_pred4, color='green')\n",
    "plt.show()\n",
    "\n",
    "plt.scatter(diabetes_X_test, diabetes_y_test,  color='black')\n",
    "plt.scatter(diabetes_X_test, y_pred5, color='purple')\n",
    "plt.show()"
   ]
  },
  {
   "cell_type": "code",
   "execution_count": null,
   "metadata": {},
   "outputs": [],
   "source": []
  }
 ],
 "metadata": {
  "kernelspec": {
   "display_name": "Python 3",
   "language": "python",
   "name": "python3"
  },
  "language_info": {
   "codemirror_mode": {
    "name": "ipython",
    "version": 3
   },
   "file_extension": ".py",
   "mimetype": "text/x-python",
   "name": "python",
   "nbconvert_exporter": "python",
   "pygments_lexer": "ipython3",
   "version": "3.8.3"
  }
 },
 "nbformat": 4,
 "nbformat_minor": 4
}

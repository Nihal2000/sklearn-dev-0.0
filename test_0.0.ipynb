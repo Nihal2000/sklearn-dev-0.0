{
 "cells": [
  {
   "cell_type": "code",
   "execution_count": 1,
   "metadata": {},
   "outputs": [],
   "source": [
    "import sklearn"
   ]
  },
  {
   "cell_type": "code",
   "execution_count": 1,
   "metadata": {},
   "outputs": [],
   "source": [
    "import sklearn\n",
    "from sklearn.tree import LinearDecisionTreeRegressor as ldtr\n",
    "from sklearn.linear_model import LinearRegression\n",
    "from sklearn.svm import LinearSVR\n",
    "from sklearn.svm import SVR\n",
    "from sklearn.tree import DecisionTreeRegressor\n",
    "from sklearn.linear_model import SGDRegressor\n",
    "from sklearn.ensemble import RandomForestRegressor\n",
    "from sklearn.feature_selection import SelectKBest, f_regression\n",
    "\n",
    "import numpy as np\n",
    "import pandas as pd\n",
    "import matplotlib.pyplot as plt\n",
    "from sklearn.metrics import mean_squared_error\n",
    "from sklearn import datasets\n",
    "from sklearn.pipeline import make_pipeline\n",
    "from sklearn.preprocessing import StandardScaler\n",
    "from sklearn.datasets import make_regression\n",
    "from sklearn.model_selection import train_test_split"
   ]
  },
  {
   "cell_type": "code",
   "execution_count": 2,
   "metadata": {},
   "outputs": [],
   "source": [
    "X,y = datasets.load_diabetes(return_X_y=True)\n",
    "X = X[:, 2].reshape(-1, 1)\n",
    "X_train = X[:-20]\n",
    "X_test = X[-20:]\n",
    "y_train = y[:-20]\n",
    "y_test = y[-20:]"
   ]
  },
  {
   "cell_type": "code",
   "execution_count": 4,
   "metadata": {},
   "outputs": [],
   "source": [
    "data= pd.DataFrame(X)\n",
    "data['10'] = y"
   ]
  },
  {
   "cell_type": "code",
   "execution_count": 5,
   "metadata": {},
   "outputs": [
    {
     "data": {
      "text/html": [
       "<div>\n",
       "<style scoped>\n",
       "    .dataframe tbody tr th:only-of-type {\n",
       "        vertical-align: middle;\n",
       "    }\n",
       "\n",
       "    .dataframe tbody tr th {\n",
       "        vertical-align: top;\n",
       "    }\n",
       "\n",
       "    .dataframe thead th {\n",
       "        text-align: right;\n",
       "    }\n",
       "</style>\n",
       "<table border=\"1\" class=\"dataframe\">\n",
       "  <thead>\n",
       "    <tr style=\"text-align: right;\">\n",
       "      <th></th>\n",
       "      <th>0</th>\n",
       "      <th>1</th>\n",
       "      <th>2</th>\n",
       "      <th>3</th>\n",
       "      <th>4</th>\n",
       "      <th>5</th>\n",
       "      <th>6</th>\n",
       "      <th>7</th>\n",
       "      <th>8</th>\n",
       "      <th>9</th>\n",
       "      <th>10</th>\n",
       "    </tr>\n",
       "  </thead>\n",
       "  <tbody>\n",
       "    <tr>\n",
       "      <th>0</th>\n",
       "      <td>0.038076</td>\n",
       "      <td>0.050680</td>\n",
       "      <td>0.061696</td>\n",
       "      <td>0.021872</td>\n",
       "      <td>-0.044223</td>\n",
       "      <td>-0.034821</td>\n",
       "      <td>-0.043401</td>\n",
       "      <td>-0.002592</td>\n",
       "      <td>0.019908</td>\n",
       "      <td>-0.017646</td>\n",
       "      <td>151.0</td>\n",
       "    </tr>\n",
       "    <tr>\n",
       "      <th>1</th>\n",
       "      <td>-0.001882</td>\n",
       "      <td>-0.044642</td>\n",
       "      <td>-0.051474</td>\n",
       "      <td>-0.026328</td>\n",
       "      <td>-0.008449</td>\n",
       "      <td>-0.019163</td>\n",
       "      <td>0.074412</td>\n",
       "      <td>-0.039493</td>\n",
       "      <td>-0.068330</td>\n",
       "      <td>-0.092204</td>\n",
       "      <td>75.0</td>\n",
       "    </tr>\n",
       "    <tr>\n",
       "      <th>2</th>\n",
       "      <td>0.085299</td>\n",
       "      <td>0.050680</td>\n",
       "      <td>0.044451</td>\n",
       "      <td>-0.005671</td>\n",
       "      <td>-0.045599</td>\n",
       "      <td>-0.034194</td>\n",
       "      <td>-0.032356</td>\n",
       "      <td>-0.002592</td>\n",
       "      <td>0.002864</td>\n",
       "      <td>-0.025930</td>\n",
       "      <td>141.0</td>\n",
       "    </tr>\n",
       "    <tr>\n",
       "      <th>3</th>\n",
       "      <td>-0.089063</td>\n",
       "      <td>-0.044642</td>\n",
       "      <td>-0.011595</td>\n",
       "      <td>-0.036656</td>\n",
       "      <td>0.012191</td>\n",
       "      <td>0.024991</td>\n",
       "      <td>-0.036038</td>\n",
       "      <td>0.034309</td>\n",
       "      <td>0.022692</td>\n",
       "      <td>-0.009362</td>\n",
       "      <td>206.0</td>\n",
       "    </tr>\n",
       "    <tr>\n",
       "      <th>4</th>\n",
       "      <td>0.005383</td>\n",
       "      <td>-0.044642</td>\n",
       "      <td>-0.036385</td>\n",
       "      <td>0.021872</td>\n",
       "      <td>0.003935</td>\n",
       "      <td>0.015596</td>\n",
       "      <td>0.008142</td>\n",
       "      <td>-0.002592</td>\n",
       "      <td>-0.031991</td>\n",
       "      <td>-0.046641</td>\n",
       "      <td>135.0</td>\n",
       "    </tr>\n",
       "  </tbody>\n",
       "</table>\n",
       "</div>"
      ],
      "text/plain": [
       "          0         1         2         3         4         5         6  \\\n",
       "0  0.038076  0.050680  0.061696  0.021872 -0.044223 -0.034821 -0.043401   \n",
       "1 -0.001882 -0.044642 -0.051474 -0.026328 -0.008449 -0.019163  0.074412   \n",
       "2  0.085299  0.050680  0.044451 -0.005671 -0.045599 -0.034194 -0.032356   \n",
       "3 -0.089063 -0.044642 -0.011595 -0.036656  0.012191  0.024991 -0.036038   \n",
       "4  0.005383 -0.044642 -0.036385  0.021872  0.003935  0.015596  0.008142   \n",
       "\n",
       "          7         8         9     10  \n",
       "0 -0.002592  0.019908 -0.017646  151.0  \n",
       "1 -0.039493 -0.068330 -0.092204   75.0  \n",
       "2 -0.002592  0.002864 -0.025930  141.0  \n",
       "3  0.034309  0.022692 -0.009362  206.0  \n",
       "4 -0.002592 -0.031991 -0.046641  135.0  "
      ]
     },
     "execution_count": 5,
     "metadata": {},
     "output_type": "execute_result"
    }
   ],
   "source": [
    "data.head()"
   ]
  },
  {
   "cell_type": "code",
   "execution_count": 6,
   "metadata": {},
   "outputs": [
    {
     "data": {
      "text/html": [
       "<div>\n",
       "<style scoped>\n",
       "    .dataframe tbody tr th:only-of-type {\n",
       "        vertical-align: middle;\n",
       "    }\n",
       "\n",
       "    .dataframe tbody tr th {\n",
       "        vertical-align: top;\n",
       "    }\n",
       "\n",
       "    .dataframe thead th {\n",
       "        text-align: right;\n",
       "    }\n",
       "</style>\n",
       "<table border=\"1\" class=\"dataframe\">\n",
       "  <thead>\n",
       "    <tr style=\"text-align: right;\">\n",
       "      <th></th>\n",
       "      <th>0</th>\n",
       "      <th>1</th>\n",
       "      <th>2</th>\n",
       "      <th>3</th>\n",
       "      <th>4</th>\n",
       "      <th>5</th>\n",
       "      <th>6</th>\n",
       "      <th>7</th>\n",
       "      <th>8</th>\n",
       "      <th>9</th>\n",
       "      <th>10</th>\n",
       "    </tr>\n",
       "  </thead>\n",
       "  <tbody>\n",
       "    <tr>\n",
       "      <th>0</th>\n",
       "      <td>1.000000</td>\n",
       "      <td>0.173737</td>\n",
       "      <td>0.185085</td>\n",
       "      <td>0.335427</td>\n",
       "      <td>0.260061</td>\n",
       "      <td>0.219243</td>\n",
       "      <td>-0.075181</td>\n",
       "      <td>0.203841</td>\n",
       "      <td>0.270777</td>\n",
       "      <td>0.301731</td>\n",
       "      <td>0.187889</td>\n",
       "    </tr>\n",
       "    <tr>\n",
       "      <th>1</th>\n",
       "      <td>0.173737</td>\n",
       "      <td>1.000000</td>\n",
       "      <td>0.088161</td>\n",
       "      <td>0.241013</td>\n",
       "      <td>0.035277</td>\n",
       "      <td>0.142637</td>\n",
       "      <td>-0.379090</td>\n",
       "      <td>0.332115</td>\n",
       "      <td>0.149918</td>\n",
       "      <td>0.208133</td>\n",
       "      <td>0.043062</td>\n",
       "    </tr>\n",
       "    <tr>\n",
       "      <th>2</th>\n",
       "      <td>0.185085</td>\n",
       "      <td>0.088161</td>\n",
       "      <td>1.000000</td>\n",
       "      <td>0.395415</td>\n",
       "      <td>0.249777</td>\n",
       "      <td>0.261170</td>\n",
       "      <td>-0.366811</td>\n",
       "      <td>0.413807</td>\n",
       "      <td>0.446159</td>\n",
       "      <td>0.388680</td>\n",
       "      <td>0.586450</td>\n",
       "    </tr>\n",
       "    <tr>\n",
       "      <th>3</th>\n",
       "      <td>0.335427</td>\n",
       "      <td>0.241013</td>\n",
       "      <td>0.395415</td>\n",
       "      <td>1.000000</td>\n",
       "      <td>0.242470</td>\n",
       "      <td>0.185558</td>\n",
       "      <td>-0.178761</td>\n",
       "      <td>0.257653</td>\n",
       "      <td>0.393478</td>\n",
       "      <td>0.390429</td>\n",
       "      <td>0.441484</td>\n",
       "    </tr>\n",
       "    <tr>\n",
       "      <th>4</th>\n",
       "      <td>0.260061</td>\n",
       "      <td>0.035277</td>\n",
       "      <td>0.249777</td>\n",
       "      <td>0.242470</td>\n",
       "      <td>1.000000</td>\n",
       "      <td>0.896663</td>\n",
       "      <td>0.051519</td>\n",
       "      <td>0.542207</td>\n",
       "      <td>0.515501</td>\n",
       "      <td>0.325717</td>\n",
       "      <td>0.212022</td>\n",
       "    </tr>\n",
       "    <tr>\n",
       "      <th>5</th>\n",
       "      <td>0.219243</td>\n",
       "      <td>0.142637</td>\n",
       "      <td>0.261170</td>\n",
       "      <td>0.185558</td>\n",
       "      <td>0.896663</td>\n",
       "      <td>1.000000</td>\n",
       "      <td>-0.196455</td>\n",
       "      <td>0.659817</td>\n",
       "      <td>0.318353</td>\n",
       "      <td>0.290600</td>\n",
       "      <td>0.174054</td>\n",
       "    </tr>\n",
       "    <tr>\n",
       "      <th>6</th>\n",
       "      <td>-0.075181</td>\n",
       "      <td>-0.379090</td>\n",
       "      <td>-0.366811</td>\n",
       "      <td>-0.178761</td>\n",
       "      <td>0.051519</td>\n",
       "      <td>-0.196455</td>\n",
       "      <td>1.000000</td>\n",
       "      <td>-0.738493</td>\n",
       "      <td>-0.398577</td>\n",
       "      <td>-0.273697</td>\n",
       "      <td>-0.394789</td>\n",
       "    </tr>\n",
       "    <tr>\n",
       "      <th>7</th>\n",
       "      <td>0.203841</td>\n",
       "      <td>0.332115</td>\n",
       "      <td>0.413807</td>\n",
       "      <td>0.257653</td>\n",
       "      <td>0.542207</td>\n",
       "      <td>0.659817</td>\n",
       "      <td>-0.738493</td>\n",
       "      <td>1.000000</td>\n",
       "      <td>0.617857</td>\n",
       "      <td>0.417212</td>\n",
       "      <td>0.430453</td>\n",
       "    </tr>\n",
       "    <tr>\n",
       "      <th>8</th>\n",
       "      <td>0.270777</td>\n",
       "      <td>0.149918</td>\n",
       "      <td>0.446159</td>\n",
       "      <td>0.393478</td>\n",
       "      <td>0.515501</td>\n",
       "      <td>0.318353</td>\n",
       "      <td>-0.398577</td>\n",
       "      <td>0.617857</td>\n",
       "      <td>1.000000</td>\n",
       "      <td>0.464670</td>\n",
       "      <td>0.565883</td>\n",
       "    </tr>\n",
       "    <tr>\n",
       "      <th>9</th>\n",
       "      <td>0.301731</td>\n",
       "      <td>0.208133</td>\n",
       "      <td>0.388680</td>\n",
       "      <td>0.390429</td>\n",
       "      <td>0.325717</td>\n",
       "      <td>0.290600</td>\n",
       "      <td>-0.273697</td>\n",
       "      <td>0.417212</td>\n",
       "      <td>0.464670</td>\n",
       "      <td>1.000000</td>\n",
       "      <td>0.382483</td>\n",
       "    </tr>\n",
       "    <tr>\n",
       "      <th>10</th>\n",
       "      <td>0.187889</td>\n",
       "      <td>0.043062</td>\n",
       "      <td>0.586450</td>\n",
       "      <td>0.441484</td>\n",
       "      <td>0.212022</td>\n",
       "      <td>0.174054</td>\n",
       "      <td>-0.394789</td>\n",
       "      <td>0.430453</td>\n",
       "      <td>0.565883</td>\n",
       "      <td>0.382483</td>\n",
       "      <td>1.000000</td>\n",
       "    </tr>\n",
       "  </tbody>\n",
       "</table>\n",
       "</div>"
      ],
      "text/plain": [
       "           0         1         2         3         4         5         6  \\\n",
       "0   1.000000  0.173737  0.185085  0.335427  0.260061  0.219243 -0.075181   \n",
       "1   0.173737  1.000000  0.088161  0.241013  0.035277  0.142637 -0.379090   \n",
       "2   0.185085  0.088161  1.000000  0.395415  0.249777  0.261170 -0.366811   \n",
       "3   0.335427  0.241013  0.395415  1.000000  0.242470  0.185558 -0.178761   \n",
       "4   0.260061  0.035277  0.249777  0.242470  1.000000  0.896663  0.051519   \n",
       "5   0.219243  0.142637  0.261170  0.185558  0.896663  1.000000 -0.196455   \n",
       "6  -0.075181 -0.379090 -0.366811 -0.178761  0.051519 -0.196455  1.000000   \n",
       "7   0.203841  0.332115  0.413807  0.257653  0.542207  0.659817 -0.738493   \n",
       "8   0.270777  0.149918  0.446159  0.393478  0.515501  0.318353 -0.398577   \n",
       "9   0.301731  0.208133  0.388680  0.390429  0.325717  0.290600 -0.273697   \n",
       "10  0.187889  0.043062  0.586450  0.441484  0.212022  0.174054 -0.394789   \n",
       "\n",
       "           7         8         9        10  \n",
       "0   0.203841  0.270777  0.301731  0.187889  \n",
       "1   0.332115  0.149918  0.208133  0.043062  \n",
       "2   0.413807  0.446159  0.388680  0.586450  \n",
       "3   0.257653  0.393478  0.390429  0.441484  \n",
       "4   0.542207  0.515501  0.325717  0.212022  \n",
       "5   0.659817  0.318353  0.290600  0.174054  \n",
       "6  -0.738493 -0.398577 -0.273697 -0.394789  \n",
       "7   1.000000  0.617857  0.417212  0.430453  \n",
       "8   0.617857  1.000000  0.464670  0.565883  \n",
       "9   0.417212  0.464670  1.000000  0.382483  \n",
       "10  0.430453  0.565883  0.382483  1.000000  "
      ]
     },
     "execution_count": 6,
     "metadata": {},
     "output_type": "execute_result"
    }
   ],
   "source": [
    "data.corr()"
   ]
  },
  {
   "cell_type": "code",
   "execution_count": 38,
   "metadata": {},
   "outputs": [],
   "source": [
    "X, y = make_regression(n_features=4)\n",
    "X_train, X_test, y_train, y_test = train_test_split(X,y,test_size = 0.2)"
   ]
  },
  {
   "cell_type": "code",
   "execution_count": 3,
   "metadata": {},
   "outputs": [],
   "source": [
    "m = 150\n",
    "#np.random.seed(42)\n",
    "X = np.random.rand(m, 3) * 2\n",
    "X= np.sort(X, axis= 0)\n",
    "y = 4 * (X[:, 0] - 0.5) ** 2 + 6 * (X[:, 1] - 0.5)**2 + 2 * (X[:, 2] - 0.5)**5\n",
    "y = y + np.random.randn(m,) / 10\n",
    "X_train, X_test, y_train, y_test = train_test_split(X,y,test_size = 0.2)"
   ]
  },
  {
   "cell_type": "code",
   "execution_count": 4,
   "metadata": {},
   "outputs": [
    {
     "data": {
      "text/plain": [
       "(120, 3)"
      ]
     },
     "execution_count": 4,
     "metadata": {},
     "output_type": "execute_result"
    }
   ],
   "source": [
    "X_train.shape"
   ]
  },
  {
   "cell_type": "code",
   "execution_count": 5,
   "metadata": {},
   "outputs": [],
   "source": [
    "reg1 = ldtr(max_depth= 2)\n",
    "reg2 = LinearRegression(n_jobs = -1)\n",
    "#reg3 = LinearSVR()\n",
    "reg4 = SVR(kernel = 'rbf')\n",
    "reg5 = DecisionTreeRegressor(max_depth = 2, min_samples_leaf= 3, min_samples_split= 6)\n",
    "#reg6 = SGDRegressor(n_iter_no_change=250, penalty=None, eta0=0.0001, max_iter=100000)\n",
    "reg7 = RandomForestRegressor(max_depth = 2,n_jobs = -1)"
   ]
  },
  {
   "cell_type": "code",
   "execution_count": 6,
   "metadata": {},
   "outputs": [
    {
     "name": "stdout",
     "output_type": "stream",
     "text": [
      "Decision Best 90 1.5009883046150208\n",
      "5.1918087 5.1918087 5.3328934\n",
      "linear Best 77 1.3871929049491882\n",
      "3.0772905 5.1918087 3.0772905\n",
      "3.0772905 5.1918087 4.005482\n",
      "1 77\n",
      "linear Best 54 0.9338315725326538\n",
      "0.5879379 0.69801766 0.5879379\n",
      "linear Best 38 0.6107071340084076\n",
      "0.16467443 0.69801766 0.16467443\n",
      "0.16467443 0.69801766 0.16467443\n",
      "1 38\n",
      "Decision Best 102 1.7104992866516113\n",
      "0.057397753 0.057397753 0.07382397\n",
      "Decision Best 102 1.7104992866516113\n",
      "0.057397753 0.057397753 0.07382397\n",
      "Decision Best 102 1.7104992866516113\n",
      "0.057397753 0.057397753 0.07382397\n",
      "0 102\n",
      "1 90\n",
      "0 72\n",
      "1 107\n",
      "0 54\n",
      "1 48\n",
      "2 530\n",
      " 59\n",
      "0 50\n",
      "1 70\n",
      "2 36\n",
      "2 44\n",
      "0 40\n",
      "2 59\n",
      "21  600 66\n",
      "\n",
      "67\n",
      "2 46\n",
      "1 56\n",
      "0 59\n",
      "1 57\n",
      "2 73\n",
      "0 42\n",
      "1 46\n",
      "2 65\n",
      "0 71\n",
      "1 48\n",
      "0 74\n",
      "1 55\n",
      "0 58\n",
      "0 56\n",
      "0 59\n",
      "1 43\n",
      "2 67\n",
      "1 1 46\n",
      "47\n",
      "2 44\n",
      "1 69\n",
      "12 69\n",
      " 67\n",
      "1 46\n",
      "1 52\n",
      "1 37\n",
      "10  54\n",
      "60\n",
      "1 62\n",
      "2 42\n",
      "0 61\n",
      "1 47\n",
      "0 49\n",
      "0 68\n",
      "1 74\n",
      "1 56\n",
      "02 55\n",
      " 51\n",
      "1 57\n",
      "1 49\n",
      "2 49\n",
      "2 2 67\n",
      "46\n",
      "0 43\n",
      "1 68\n",
      "0 66\n",
      "2 65\n",
      "0 61\n",
      "1 57\n",
      "1 55\n",
      "01 47\n",
      " 51\n",
      "1 44\n",
      "2 74\n",
      "1 42\n",
      "2 69\n",
      "0 43\n",
      "1 69\n",
      "0 57\n",
      "1 50\n",
      "2 58\n",
      "0 58\n",
      "2 41\n",
      "2 57\n",
      "0 62\n",
      "2 45\n",
      "1 46\n",
      "2 45\n",
      "0 71\n",
      "0 70\n",
      "0 63\n",
      "2 62\n",
      "12 53\n",
      " 54\n",
      "2 57\n",
      "2 50\n",
      "0 41\n",
      "2 72\n",
      "2 45\n",
      "0 64\n",
      "2 067\n",
      " 45\n",
      "2 67\n",
      "0 54\n",
      "1 51\n",
      "2 43\n",
      "1 572\n",
      " 46\n",
      "1 63\n",
      "1 38\n",
      "2 35\n",
      "1 50\n",
      "0 65\n",
      "0 58\n",
      "1 56\n",
      "2 69\n",
      "1 54\n",
      "2 45\n",
      "0 62\n",
      "0 69\n",
      "2 41\n",
      "0 602 \n",
      "48\n",
      "1 65\n",
      "2 70\n",
      "1 48\n",
      "0 55\n",
      "1 53\n",
      "1 70\n",
      "0 53\n",
      "1 48\n",
      "1 67\n",
      "1 45\n",
      "1 61\n",
      "1 64\n",
      "1 43\n",
      "0 67\n",
      "2 59\n",
      "1 52\n",
      "1 56\n",
      "0 74\n",
      "12 42 60\n",
      "\n",
      "1 63\n",
      "1 51\n",
      "0 45\n",
      "0 153\n",
      " 70\n",
      "1 52\n",
      "0 67\n",
      "1 039 60\n",
      "\n",
      "1 63\n",
      "1 43\n",
      "0 501 66\n",
      "\n",
      "1 47\n",
      "2 68\n",
      "1 153 \n",
      "43\n",
      "2 060\n",
      " 58\n",
      "1 44\n",
      "1 0 4468\n",
      "0\n",
      " 54\n",
      "0 64\n",
      "1 55\n",
      "0 55\n",
      "2 45\n",
      "11 53\n",
      " 65\n",
      "1 42\n",
      "2 49\n",
      "0 69\n",
      "1 66\n",
      "1 43\n",
      "00 57\n",
      " 66\n",
      "1 0 59\n",
      "43\n",
      "1 53\n",
      "2 65\n",
      "1 61\n",
      "12  4442\n",
      "\n",
      "1 47\n",
      "0 68\n",
      "11 55\n",
      " 69\n",
      "1 67\n",
      "2 45\n",
      "1 57\n",
      "2 258\n",
      " 67\n",
      "2 58\n",
      "2 45\n",
      "2 69\n",
      "1 48\n",
      "0 48\n",
      "2 56\n",
      "0 72\n",
      "1 72\n",
      "0 47\n",
      "1 56\n",
      "0 66\n",
      "0 51\n",
      "2 54\n",
      "2 47\n",
      "1 41\n",
      "0 452\n",
      " 55\n",
      "2 61\n",
      "0 66\n",
      "1 65\n",
      "0 42\n",
      "2 56\n",
      "2 68\n",
      "0 60\n",
      "2 58\n",
      "2 51\n",
      "0 45\n",
      "2 073\n",
      " 44\n",
      "02 59\n",
      " 68\n",
      "0 70\n",
      "2 49\n",
      "0 600 71\n",
      "\n",
      "0 53\n",
      "0 42\n",
      "1 63\n",
      "0 61\n",
      "0 65\n",
      "22 50\n",
      "0 48\n",
      " 51\n",
      "1 72\n",
      "2 071 71\n",
      "\n",
      "1 60\n",
      "1 54\n",
      "0 57\n",
      "1 45\n",
      "1 59\n",
      "1 68\n",
      "2 43\n",
      "0 2 48\n",
      "67\n",
      "1 46\n",
      "0 69\n",
      "2 69\n",
      "1 61\n",
      "0 059\n",
      " 60\n",
      "22 55\n",
      " 48\n",
      "2 50\n",
      "0 72\n",
      "2 73\n",
      "21  43\n",
      "48\n",
      "1 65\n",
      "0 74\n",
      "2 53\n",
      "1 54\n",
      "1 57\n",
      "2 55\n",
      "0 42\n",
      "1 40\n",
      "2 462\n",
      "2  43\n",
      "65\n",
      "2 68\n",
      "2 1 63\n",
      "67\n",
      "2 2 5655\n",
      "\n",
      "11 56\n",
      " 551 45\n",
      "\n",
      "0 65\n",
      "2 43\n",
      "1 46\n",
      "0 46\n",
      "2 67\n",
      "0 65\n",
      "1 67\n",
      "1 59\n",
      "2 481 58\n",
      "\n",
      "0 68\n",
      "2 61\n",
      "1 58\n",
      "2 47\n",
      "2 56\n",
      "0 68\n",
      "1 47\n",
      "0 51\n",
      "1 47\n",
      "0 68\n",
      "1 69\n",
      "0 67\n",
      "0 58\n",
      "0 45\n",
      "0 72\n"
     ]
    },
    {
     "data": {
      "text/plain": [
       "RandomForestRegressor(max_depth=2, n_jobs=-1)"
      ]
     },
     "execution_count": 6,
     "metadata": {},
     "output_type": "execute_result"
    }
   ],
   "source": [
    "reg1.fit(X_train, y_train)\n",
    "reg2.fit(X_train, y_train)\n",
    "reg3.fit(X_train, y_train)\n",
    "reg4.fit(X_train, y_train)\n",
    "reg5.fit(X_train, y_train)\n",
    "reg6.fit(X_train, y_train)\n",
    "reg7.fit(X_train, y_train)"
   ]
  },
  {
   "cell_type": "code",
   "execution_count": 7,
   "metadata": {},
   "outputs": [],
   "source": [
    "y_pred1 = reg1.predict(X_test)\n",
    "y_pred2 = reg2.predict(X_test)\n",
    "y_pred3 = reg3.predict(X_test)\n",
    "y_pred4 = reg4.predict(X_test)\n",
    "y_pred5 = reg5.predict(X_test)\n",
    "y_pred6 = reg6.predict(X_test)\n",
    "y_pred7 = reg7.predict(X_test)"
   ]
  },
  {
   "cell_type": "code",
   "execution_count": 8,
   "metadata": {},
   "outputs": [
    {
     "name": "stdout",
     "output_type": "stream",
     "text": [
      "Mean squared error: 0.10\n",
      "Mean squared error: 16.89\n",
      "Mean squared error: 36.99\n",
      "Mean squared error: 13.57\n",
      "Mean squared error: 6.42\n",
      "Mean squared error: 40.31\n",
      "Mean squared error: 4.58\n"
     ]
    }
   ],
   "source": [
    "print('Mean squared error: %.2f'% mean_squared_error(y_test, y_pred1))\n",
    "print('Mean squared error: %.2f'% mean_squared_error(y_test, y_pred2))\n",
    "print('Mean squared error: %.2f'% mean_squared_error(y_test, y_pred3))\n",
    "print('Mean squared error: %.2f'% mean_squared_error(y_test, y_pred4))\n",
    "print('Mean squared error: %.2f'% mean_squared_error(y_test, y_pred5))\n",
    "print('Mean squared error: %.2f'% mean_squared_error(y_test, y_pred6))\n",
    "print('Mean squared error: %.2f'% mean_squared_error(y_test, y_pred7))"
   ]
  },
  {
   "cell_type": "code",
   "execution_count": 10,
   "metadata": {},
   "outputs": [
    {
     "data": {
      "image/png": "[encoded data removed]",
      "text/plain": [
       "<Figure size 432x288 with 1 Axes>"
      ]
     },
     "metadata": {
      "needs_background": "light"
     },
     "output_type": "display_data"
    },
    {
     "data": {
      "image/png": "[encoded data removed]",
      "text/plain": [
       "<Figure size 432x288 with 1 Axes>"
      ]
     },
     "metadata": {
      "needs_background": "light"
     },
     "output_type": "display_data"
    },
    {
     "data": {
      "image/png": "[encoded data removed]",
      "text/plain": [
       "<Figure size 432x288 with 1 Axes>"
      ]
     },
     "metadata": {
      "needs_background": "light"
     },
     "output_type": "display_data"
    }
   ],
   "source": [
    "for i in range(X_train.shape[1]):\n",
    "    plt.scatter(X_train[:, i], y_train,  color='black')\n",
    "    plt.scatter(X_train[:, i], reg1.predict(X_train),  color='blue')\n",
    "    plt.scatter(X_train[:, i], reg7.predict(X_train),  color='green')\n",
    "    plt.show()"
   ]
  },
  {
   "cell_type": "code",
   "execution_count": 11,
   "metadata": {},
   "outputs": [
    {
     "data": {
      "image/png": "[encoded data removed]",
      "text/plain": [
       "<Figure size 432x288 with 1 Axes>"
      ]
     },
     "metadata": {
      "needs_background": "light"
     },
     "output_type": "display_data"
    },
    {
     "data": {
      "image/png": "[encoded data removed]",
      "text/plain": [
       "<Figure size 432x288 with 1 Axes>"
      ]
     },
     "metadata": {
      "needs_background": "light"
     },
     "output_type": "display_data"
    },
    {
     "data": {
      "image/png": "[encoded data removed]",
      "text/plain": [
       "<Figure size 432x288 with 1 Axes>"
      ]
     },
     "metadata": {
      "needs_background": "light"
     },
     "output_type": "display_data"
    },
    {
     "data": {
      "image/png": "[encoded data removed]",
      "text/plain": [
       "<Figure size 432x288 with 1 Axes>"
      ]
     },
     "metadata": {
      "needs_background": "light"
     },
     "output_type": "display_data"
    },
    {
     "data": {
      "image/png": "[encoded data removed]",
      "text/plain": [
       "<Figure size 432x288 with 1 Axes>"
      ]
     },
     "metadata": {
      "needs_background": "light"
     },
     "output_type": "display_data"
    },
    {
     "data": {
      "image/png": "[encoded data removed]",
      "text/plain": [
       "<Figure size 432x288 with 1 Axes>"
      ]
     },
     "metadata": {
      "needs_background": "light"
     },
     "output_type": "display_data"
    },
    {
     "data": {
      "image/png": "[encoded data removed]",
      "text/plain": [
       "<Figure size 432x288 with 1 Axes>"
      ]
     },
     "metadata": {
      "needs_background": "light"
     },
     "output_type": "display_data"
    },
    {
     "data": {
      "image/png": "[encoded data removed]",
      "text/plain": [
       "<Figure size 432x288 with 1 Axes>"
      ]
     },
     "metadata": {
      "needs_background": "light"
     },
     "output_type": "display_data"
    },
    {
     "data": {
      "image/png": "[encoded data removed]",
      "text/plain": [
       "<Figure size 432x288 with 1 Axes>"
      ]
     },
     "metadata": {
      "needs_background": "light"
     },
     "output_type": "display_data"
    },
    {
     "data": {
      "image/png": "[encoded data removed]",
      "text/plain": [
       "<Figure size 432x288 with 1 Axes>"
      ]
     },
     "metadata": {
      "needs_background": "light"
     },
     "output_type": "display_data"
    },
    {
     "data": {
      "image/png": "[encoded data removed]",
      "text/plain": [
       "<Figure size 432x288 with 1 Axes>"
      ]
     },
     "metadata": {
      "needs_background": "light"
     },
     "output_type": "display_data"
    },
    {
     "data": {
      "image/png": "[encoded data removed]",
      "text/plain": [
       "<Figure size 432x288 with 1 Axes>"
      ]
     },
     "metadata": {
      "needs_background": "light"
     },
     "output_type": "display_data"
    },
    {
     "data": {
      "image/png": "[encoded data removed]",
      "text/plain": [
       "<Figure size 432x288 with 1 Axes>"
      ]
     },
     "metadata": {
      "needs_background": "light"
     },
     "output_type": "display_data"
    },
    {
     "data": {
      "image/png": "[encoded data removed]",
      "text/plain": [
       "<Figure size 432x288 with 1 Axes>"
      ]
     },
     "metadata": {
      "needs_background": "light"
     },
     "output_type": "display_data"
    },
    {
     "data": {
      "image/png": "[encoded data removed]",
      "text/plain": [
       "<Figure size 432x288 with 1 Axes>"
      ]
     },
     "metadata": {
      "needs_background": "light"
     },
     "output_type": "display_data"
    }
   ],
   "source": [
    "for i in range(X_test.shape[1]):\n",
    "    plt.scatter(X_test[:, i], y_test,  color='black')\n",
    "    plt.scatter(X_test[:, i], y_pred1, color='blue')\n",
    "    plt.show()\n",
    "\n",
    "    plt.scatter(X_test[:, i], y_test,  color='black')\n",
    "    plt.scatter(X_test[:, i],y_pred2, color='orange')\n",
    "    plt.show()\n",
    "\n",
    "    plt.scatter(X_test[:, i], y_test,  color='black')\n",
    "    plt.scatter(X_test[:, i],y_pred3, color='red')\n",
    "    plt.show()\n",
    "\n",
    "    plt.scatter(X_test[:, i], y_test,  color='black')\n",
    "    plt.scatter(X_test[:, i], y_pred4, color='green')\n",
    "    plt.show()\n",
    "\n",
    "    plt.scatter(X_test[:, i], y_test,  color='black')\n",
    "    plt.scatter(X_test[:, i], y_pred5, color='purple')\n",
    "    plt.show()"
   ]
  },
  {
   "cell_type": "code",
   "execution_count": null,
   "metadata": {},
   "outputs": [],
   "source": []
  }
 ],
 "metadata": {
  "kernelspec": {
   "display_name": "PlaidML",
   "language": "python",
   "name": "plaidml"
  },
  "language_info": {
   "codemirror_mode": {
    "name": "ipython",
    "version": 3
   },
   "file_extension": ".py",
   "mimetype": "text/x-python",
   "name": "python",
   "nbconvert_exporter": "python",
   "pygments_lexer": "ipython3",
   "version": "3.7.9"
  }
 },
 "nbformat": 4,
 "nbformat_minor": 4
}

{
 "cells": [
  {
   "cell_type": "code",
   "execution_count": 1,
   "metadata": {},
   "outputs": [],
   "source": [
    "import sklearn"
   ]
  },
  {
   "cell_type": "code",
   "execution_count": 2,
   "metadata": {},
   "outputs": [],
   "source": [
    "from sklearn.tree import LinearDecisionTreeRegressor as ldtr\n",
    "from sklearn.linear_model import LinearRegression\n",
    "from sklearn.svm import LinearSVR\n",
    "from sklearn.svm import SVR\n",
    "from sklearn.tree import DecisionTreeRegressor\n",
    "\n",
    "import numpy as np\n",
    "import pandas as pd\n",
    "import matplotlib.pyplot as plt\n",
    "from sklearn.metrics import mean_squared_error\n",
    "from sklearn import datasets\n",
    "from sklearn.pipeline import make_pipeline\n",
    "from sklearn.preprocessing import StandardScaler\n",
    "from sklearn.datasets import make_regression\n",
    "from sklearn.model_selection import train_test_split"
   ]
  },
  {
   "cell_type": "code",
   "execution_count": 11,
   "metadata": {},
   "outputs": [],
   "source": [
    "X,y = datasets.load_diabetes(return_X_y=True)\n",
    "X = X[:, 2].reshape(-1, 1)\n",
    "X_train = X[:-20]\n",
    "X_test = X[-20:]\n",
    "y_train = y[:-20]\n",
    "y_test = y[-20:]"
   ]
  },
  {
   "cell_type": "code",
   "execution_count": 4,
   "metadata": {},
   "outputs": [],
   "source": [
    "data= pd.DataFrame(X)\n",
    "data['10'] = y"
   ]
  },
  {
   "cell_type": "code",
   "execution_count": 5,
   "metadata": {},
   "outputs": [
    {
     "data": {
      "text/html": [
       "<div>\n",
       "<style scoped>\n",
       "    .dataframe tbody tr th:only-of-type {\n",
       "        vertical-align: middle;\n",
       "    }\n",
       "\n",
       "    .dataframe tbody tr th {\n",
       "        vertical-align: top;\n",
       "    }\n",
       "\n",
       "    .dataframe thead th {\n",
       "        text-align: right;\n",
       "    }\n",
       "</style>\n",
       "<table border=\"1\" class=\"dataframe\">\n",
       "  <thead>\n",
       "    <tr style=\"text-align: right;\">\n",
       "      <th></th>\n",
       "      <th>0</th>\n",
       "      <th>10</th>\n",
       "    </tr>\n",
       "  </thead>\n",
       "  <tbody>\n",
       "    <tr>\n",
       "      <th>0</th>\n",
       "      <td>0.061696</td>\n",
       "      <td>151.0</td>\n",
       "    </tr>\n",
       "    <tr>\n",
       "      <th>1</th>\n",
       "      <td>-0.051474</td>\n",
       "      <td>75.0</td>\n",
       "    </tr>\n",
       "    <tr>\n",
       "      <th>2</th>\n",
       "      <td>0.044451</td>\n",
       "      <td>141.0</td>\n",
       "    </tr>\n",
       "    <tr>\n",
       "      <th>3</th>\n",
       "      <td>-0.011595</td>\n",
       "      <td>206.0</td>\n",
       "    </tr>\n",
       "    <tr>\n",
       "      <th>4</th>\n",
       "      <td>-0.036385</td>\n",
       "      <td>135.0</td>\n",
       "    </tr>\n",
       "  </tbody>\n",
       "</table>\n",
       "</div>"
      ],
      "text/plain": [
       "          0     10\n",
       "0  0.061696  151.0\n",
       "1 -0.051474   75.0\n",
       "2  0.044451  141.0\n",
       "3 -0.011595  206.0\n",
       "4 -0.036385  135.0"
      ]
     },
     "execution_count": 5,
     "metadata": {},
     "output_type": "execute_result"
    }
   ],
   "source": [
    "data.head()"
   ]
  },
  {
   "cell_type": "code",
   "execution_count": 6,
   "metadata": {},
   "outputs": [
    {
     "data": {
      "text/html": [
       "<div>\n",
       "<style scoped>\n",
       "    .dataframe tbody tr th:only-of-type {\n",
       "        vertical-align: middle;\n",
       "    }\n",
       "\n",
       "    .dataframe tbody tr th {\n",
       "        vertical-align: top;\n",
       "    }\n",
       "\n",
       "    .dataframe thead th {\n",
       "        text-align: right;\n",
       "    }\n",
       "</style>\n",
       "<table border=\"1\" class=\"dataframe\">\n",
       "  <thead>\n",
       "    <tr style=\"text-align: right;\">\n",
       "      <th></th>\n",
       "      <th>0</th>\n",
       "      <th>10</th>\n",
       "    </tr>\n",
       "  </thead>\n",
       "  <tbody>\n",
       "    <tr>\n",
       "      <th>0</th>\n",
       "      <td>1.00000</td>\n",
       "      <td>0.58645</td>\n",
       "    </tr>\n",
       "    <tr>\n",
       "      <th>10</th>\n",
       "      <td>0.58645</td>\n",
       "      <td>1.00000</td>\n",
       "    </tr>\n",
       "  </tbody>\n",
       "</table>\n",
       "</div>"
      ],
      "text/plain": [
       "          0       10\n",
       "0   1.00000  0.58645\n",
       "10  0.58645  1.00000"
      ]
     },
     "execution_count": 6,
     "metadata": {},
     "output_type": "execute_result"
    }
   ],
   "source": [
    "data.corr()"
   ]
  },
  {
   "cell_type": "code",
   "execution_count": 11,
   "metadata": {},
   "outputs": [],
   "source": [
    "X, y = make_regression(n_features=4)\n",
    "X_train, X_test, y_train, y_test = train_test_split(X,y,test_size = 0.2)"
   ]
  },
  {
   "cell_type": "code",
   "execution_count": 18,
   "metadata": {},
   "outputs": [],
   "source": [
    "m = 150\n",
    "#np.random.seed(42)\n",
    "X = np.random.rand(m, 3) * 2\n",
    "X= np.sort(X, axis= 0)\n",
    "y = 4 * (X[:, 0] - 0.5) ** 2 + 6 * (X[:, 1] - 0.5)**2 + 2 * (X[:, 2] - 0.5)**5\n",
    "y = y + np.random.randn(m,) / 10\n",
    "X_train, X_test, y_train, y_test = train_test_split(X,y,test_size = 0.2)"
   ]
  },
  {
   "cell_type": "code",
   "execution_count": 19,
   "metadata": {},
   "outputs": [
    {
     "data": {
      "text/plain": [
       "(120, 3)"
      ]
     },
     "execution_count": 19,
     "metadata": {},
     "output_type": "execute_result"
    }
   ],
   "source": [
    "X_train.shape"
   ]
  },
  {
   "cell_type": "code",
   "execution_count": 25,
   "metadata": {},
   "outputs": [],
   "source": [
    "reg1 = ldtr(max_depth = 10)\n",
    "reg2 = LinearRegression(normalize = True,n_jobs = -1)\n",
    "reg3 = LinearSVR()\n",
    "reg4 = SVR(kernel = 'linear')\n",
    "reg5 = DecisionTreeRegressor(max_depth = 1)"
   ]
  },
  {
   "cell_type": "code",
   "execution_count": 26,
   "metadata": {},
   "outputs": [
    {
     "name": "stdout",
     "output_type": "stream",
     "text": [
      "linear Best 87 2\n",
      "5.322545 6.634900331497192 5.322545\n",
      "linear Best 71 0\n",
      "1.5077422 6.634900331497192 1.5077422\n",
      "1.5077422 6.634900331497192 3.667286\n",
      "0 71\n",
      "linear Best 44 0\n",
      "0.083128735 0.41579318046569824 0.083128735\n",
      "0.083128735 0.41579318046569824 0.21661003\n",
      "0.083128735 0.41579318046569824 0.21661003\n",
      "0 44\n",
      "Decision Best 13 0\n",
      "0.04916749522089958 0.04916749522089958 0.0532037\n",
      "linear Best 14 1\n",
      "0.029359788 0.04916749522089958 0.029359788\n",
      "0.029359788 0.04916749522089958 0.029359788\n",
      "1 14\n",
      "linear Best 3 0\n",
      "0.0137841385 0.05201220139861107 0.0137841385\n",
      "0.0137841385 0.05201220139861107 0.025369845\n",
      "0.0137841385 0.05201220139861107 0.025369845\n",
      "0 3\n",
      "Decision Best 2 2\n",
      "0.0 0.0 0.0\n",
      "0.0 0.0 0.0\n",
      "0.0 0.0 0.0\n",
      "2 2\n",
      "Decision Best 1 2\n",
      "0.0 0.0 0.0\n",
      "0.0 0.0 0.0\n",
      "0.0 0.0 0.0\n",
      "2 1\n",
      "linear Best 8 0\n",
      "0.012094889 0.014622165821492672 0.012094889\n",
      "0.012094889 0.014622165821492672 0.012094889\n",
      "0.012094889 0.014622165821492672 0.012094889\n",
      "0 8\n",
      "linear Best 5 1\n",
      "0.00062292203 0.012732221279293299 0.00062292203\n",
      "linear Best 5 2\n",
      "0.0006146103 0.012732221279293299 0.0006146103\n",
      "linear Best 4 0\n",
      "0.0005850073 0.012732221279293299 0.0005850073\n",
      "0 4\n",
      "linear Best 6 2\n",
      "7.1054274e-14 1.0658141036401503e-13 7.1054274e-14\n",
      "7.1054274e-14 1.0658141036401503e-13 7.1054274e-14\n",
      "7.1054274e-14 1.0658141036401503e-13 7.1054274e-14\n",
      "2 6\n",
      "Decision Best 5 2\n",
      "0.0 0.0 0.0\n",
      "0.0 0.0 0.0\n",
      "0.0 0.0 0.0\n",
      "2 5\n",
      "Decision Best 7 0\n",
      "0.0 0.0 0.0\n",
      "0.0 0.0 0.0\n",
      "0.0 0.0 0.0\n",
      "0 7\n",
      "linear Best 9 0\n",
      "0.001292717 0.002076639386359602 0.001292717\n",
      "0.001292717 0.002076639386359602 0.001292717\n",
      "0.001292717 0.002076639386359602 0.001292717\n",
      "0 9\n",
      "linear Best 10 1\n",
      "0.0005850073 0.0008775109599810094 0.0005850073\n",
      "0.0005850073 0.0008775109599810094 0.0005850073\n",
      "0.0005850073 0.0008775109599810094 0.0005850073\n",
      "1 10\n",
      "linear Best 12 1\n",
      "7.1054274e-14 0.012732221279293299 7.1054274e-14\n",
      "7.1054274e-14 0.012732221279293299 7.1054274e-14\n",
      "7.1054274e-14 0.012732221279293299 7.1054274e-14\n",
      "1 12\n",
      "Decision Best 11 1\n",
      "0.0 0.0 0.0\n",
      "0.0 0.0 0.0\n",
      "0.0 0.0 0.0\n",
      "1 11\n",
      "Decision Best 13 1\n",
      "0.0 0.0 0.0\n",
      "0.0 0.0 0.0\n",
      "0.0 0.0 0.0\n",
      "1 13\n",
      "linear Best 22 0\n",
      "0.016130012 0.04384434688836336 0.016130012\n",
      "0.016130012 0.04384434688836336 0.016130012\n",
      "0.016130012 0.04384434688836336 0.016130012\n",
      "0 22\n",
      "linear Best 16 0\n",
      "0.0016455492 0.013342052232474089 0.0016455492\n",
      "0.0016455492 0.013342052232474089 0.0016455492\n",
      "0.0016455492 0.013342052232474089 0.0016455492\n",
      "0 16\n",
      "Decision Best 15 1\n",
      "0.0 0.0 0.0\n",
      "0.0 0.0 0.0\n",
      "0.0 0.0 0.0\n",
      "1 15\n",
      "linear Best 17 2\n",
      "0.001292717 0.008738758508116007 0.001292717\n",
      "0.001292717 0.008738758508116007 0.001292717\n",
      "0.001292717 0.008738758508116007 0.001292717\n",
      "2 17\n",
      "linear Best 18 1\n",
      "0.0005850073 0.010798632865771651 0.0005850073\n",
      "0.0005850073 0.010798632865771651 0.0005850073\n",
      "0.0005850073 0.010798632865771651 0.0005850073\n",
      "1 18\n",
      "linear Best 20 1\n",
      "7.1054274e-14 0.012732221279293299 7.1054274e-14\n",
      "7.1054274e-14 0.012732221279293299 7.1054274e-14\n",
      "7.1054274e-14 0.012732221279293299 7.1054274e-14\n",
      "1 20\n",
      "Decision Best 19 0\n",
      "0.0 0.0 0.0\n",
      "0.0 0.0 0.0\n",
      "0.0 0.0 0.0\n",
      "0 19\n",
      "Decision Best 21 1\n",
      "0.0 0.0 0.0\n",
      "0.0 0.0 0.0\n",
      "0.0 0.0 0.0\n",
      "1 21\n",
      "Decision Best 28 1\n",
      "0.03302501700818539 0.03302501700818539 0.033936996\n",
      "0.03302501700818539 0.03302501700818539 0.033936996\n",
      "0.03302501700818539 0.03302501700818539 0.033936996\n",
      "1 28\n",
      "linear Best 23 0\n",
      "0.001292717 0.002076639386359602 0.001292717\n",
      "0.001292717 0.002076639386359602 0.001292717\n",
      "0.001292717 0.002076639386359602 0.001292717\n",
      "0 23\n",
      "linear Best 24 2\n",
      "0.0005850073 0.0008775109599810094 0.0005850073\n",
      "0.0005850073 0.0008775109599810094 0.0005850073\n",
      "0.0005850073 0.0008775109599810094 0.0005850073\n",
      "2 24\n",
      "linear Best 26 1\n",
      "7.1054274e-14 0.0011597015254665166 7.1054274e-14\n",
      "7.1054274e-14 0.0011597015254665166 7.1054274e-14\n",
      "7.1054274e-14 0.0011597015254665166 7.1054274e-14\n",
      "1 26\n",
      "Decision Best 25 0\n",
      "0.0 0.0 0.0\n",
      "0.0 0.0 0.0\n",
      "0.0 0.0 0.0\n",
      "0 25\n",
      "Decision Best 27 2\n",
      "0.0 0.0 0.0\n",
      "0.0 0.0 0.0\n",
      "0.0 0.0 0.0\n",
      "2 27\n",
      "linear Best 34 2\n",
      "0.010944005 0.02230389229953289 0.010944005\n",
      "0.010944005 0.02230389229953289 0.010944005\n",
      "0.010944005 0.02230389229953289 0.010944005\n",
      "2 34\n",
      "linear Best 29 0\n",
      "0.001292717 0.010798632865771651 0.001292717\n",
      "0.001292717 0.010798632865771651 0.001292717\n",
      "0.001292717 0.010798632865771651 0.001292717\n",
      "0 29\n",
      "linear Best 30 1\n",
      "0.0005850073 0.012732221279293299 0.0005850073\n",
      "0.0005850073 0.012732221279293299 0.0005850073\n",
      "0.0005850073 0.012732221279293299 0.0005850073\n",
      "1 30\n",
      "linear Best 32 1\n",
      "7.1054274e-14 1.0658141036401503e-13 7.1054274e-14\n",
      "7.1054274e-14 1.0658141036401503e-13 7.1054274e-14\n",
      "7.1054274e-14 1.0658141036401503e-13 7.1054274e-14\n",
      "1 32\n",
      "Decision Best 31 1\n",
      "0.0 0.0 0.0\n",
      "0.0 0.0 0.0\n",
      "0.0 0.0 0.0\n",
      "1 31\n",
      "Decision Best 33 1\n",
      "0.0 0.0 0.0\n",
      "0.0 0.0 0.0\n",
      "0.0 0.0 0.0\n",
      "1 33\n",
      "Decision Best 35 2\n",
      "0.01525736739858985 0.01525736739858985 0.015775345\n",
      "0.01525736739858985 0.01525736739858985 0.015775345\n",
      "0.01525736739858985 0.01525736739858985 0.015775345\n",
      "2 35\n",
      "linear Best 37 2\n",
      "0.0022922663 0.008227613288909197 0.0022922663\n",
      "0.0022922663 0.008227613288909197 0.0022922663\n",
      "0.0022922663 0.008227613288909197 0.0022922663\n",
      "2 37\n",
      "Decision Best 36 0\n",
      "0.0 0.0 0.0\n",
      "0.0 0.0 0.0\n",
      "0.0 0.0 0.0\n",
      "0 36\n",
      "linear Best 39 2\n",
      "0.001615769 0.012714152690023184 0.001615769\n",
      "0.001615769 0.012714152690023184 0.001615769\n",
      "0.001615769 0.012714152690023184 0.001615769\n",
      "2 39\n",
      "Decision Best 38 2\n",
      "0.0 0.0 0.0\n",
      "0.0 0.0 0.0\n",
      "0.0 0.0 0.0\n",
      "2 38\n",
      "linear Best 40 0\n",
      "0.0005850073 0.0009152117127086967 0.0005850073\n",
      "0.0005850073 0.0009152117127086967 0.0005850073\n",
      "0.0005850073 0.0009152117127086967 0.0005850073\n",
      "0 40\n",
      "linear Best 64 1\n",
      "0.051755354 0.08949863724410534 0.051755354\n",
      "0.051755354 0.08949863724410534 0.051755354\n",
      "0.051755354 0.08949863724410534 0.051755354\n",
      "1 64\n",
      "linear Best 56 2\n",
      "0.03368601 0.051560740917921066 0.03368601\n",
      "0.03368601 0.051560740917921066 0.03368601\n",
      "0.03368601 0.051560740917921066 0.03368601\n",
      "2 56\n",
      "linear Best 50 0\n",
      "0.010439064 0.020882445853203535 0.010439064\n",
      "0.010439064 0.020882445853203535 0.010439064\n",
      "0.010439064 0.020882445853203535 0.010439064\n",
      "0 50\n",
      "linear Best 45 2\n",
      "0.001292717 0.0132679995149374 0.001292717\n",
      "0.001292717 0.0132679995149374 0.001292717\n",
      "0.001292717 0.0132679995149374 0.001292717\n",
      "2 45\n",
      "linear Best 46 1\n",
      "0.0005850073 0.0009152117127086967 0.0005850073\n",
      "0.0005850073 0.0009152117127086967 0.0005850073\n",
      "0.0005850073 0.0009152117127086967 0.0005850073\n",
      "1 46\n",
      "linear Best 48 1\n",
      "7.1054274e-14 0.0011597015254665166 7.1054274e-14\n",
      "7.1054274e-14 0.0011597015254665166 7.1054274e-14\n",
      "7.1054274e-14 0.0011597015254665166 7.1054274e-14\n",
      "1 48\n",
      "Decision Best 47 1\n",
      "0.0 0.0 0.0\n",
      "0.0 0.0 0.0\n",
      "0.0 0.0 0.0\n",
      "1 47\n",
      "Decision Best 49 1\n",
      "0.0 0.0 0.0\n",
      "0.0 0.0 0.0\n",
      "0.0 0.0 0.0\n",
      "1 49\n",
      "linear Best 51 2\n",
      "0.001292717 0.010798632865771651 0.001292717\n",
      "0.001292717 0.010798632865771651 0.001292717\n",
      "0.001292717 0.010798632865771651 0.001292717\n",
      "2 51\n",
      "linear Best 52 2\n",
      "0.0005850073 0.010798632865771651 0.0005850073\n",
      "0.0005850073 0.010798632865771651 0.0005850073\n",
      "0.0005850073 0.010798632865771651 0.0005850073\n",
      "2 52\n",
      "linear Best 54 1\n",
      "7.1054274e-14 0.012732221279293299 7.1054274e-14\n",
      "7.1054274e-14 0.012732221279293299 7.1054274e-14\n",
      "7.1054274e-14 0.012732221279293299 7.1054274e-14\n",
      "1 54\n",
      "Decision Best 53 0\n",
      "0.0 0.0 0.0\n",
      "0.0 0.0 0.0\n",
      "0.0 0.0 0.0\n",
      "0 53\n",
      "Decision Best 55 2\n",
      "0.0 0.0 0.0\n",
      "0.0 0.0 0.0\n",
      "0.0 0.0 0.0\n",
      "2 55\n",
      "linear Best 58 1\n",
      "0.0016455492 0.009889737702906132 0.0016455492\n",
      "0.0016455492 0.009889737702906132 0.0016455492\n",
      "0.0016455492 0.009889737702906132 0.0016455492\n",
      "1 58\n",
      "Decision Best 57 1\n",
      "0.0 0.0 0.0\n",
      "0.0 0.0 0.0\n",
      "0.0 0.0 0.0\n",
      "1 57\n",
      "linear Best 59 1\n",
      "0.001292717 0.0132679995149374 0.001292717\n",
      "0.001292717 0.0132679995149374 0.001292717\n",
      "0.001292717 0.0132679995149374 0.001292717\n",
      "1 59\n",
      "linear Best 60 1\n",
      "0.0005850073 0.0009152117127086967 0.0005850073\n",
      "0.0005850073 0.0009152117127086967 0.0005850073\n",
      "0.0005850073 0.0009152117127086967 0.0005850073\n",
      "1 60\n",
      "linear Best 62 0\n",
      "7.1054274e-14 0.0011597015254665166 7.1054274e-14\n",
      "7.1054274e-14 0.0011597015254665166 7.1054274e-14\n",
      "7.1054274e-14 0.0011597015254665166 7.1054274e-14\n",
      "0 62\n",
      "Decision Best 61 1\n",
      "0.0 0.0 0.0\n",
      "0.0 0.0 0.0\n",
      "0.0 0.0 0.0\n",
      "1 61\n",
      "Decision Best 63 2\n",
      "0.0 0.0 0.0\n",
      "0.0 0.0 0.0\n",
      "0.0 0.0 0.0\n",
      "2 63\n",
      "linear Best 66 2\n",
      "0.001615769 0.012714152690023184 0.001615769\n",
      "0.001615769 0.012714152690023184 0.001615769\n",
      "0.001615769 0.012714152690023184 0.001615769\n",
      "2 66\n",
      "Decision Best 65 0\n",
      "0.0 0.0 0.0\n",
      "0.0 0.0 0.0\n",
      "0.0 0.0 0.0\n",
      "0 65\n",
      "linear Best 67 0\n",
      "0.0005850073 0.0009152117127086967 0.0005850073\n",
      "0.0005850073 0.0009152117127086967 0.0005850073\n",
      "0.0005850073 0.0009152117127086967 0.0005850073\n",
      "0 67\n",
      "linear Best 69 1\n",
      "7.1054274e-14 0.0011597015254665166 7.1054274e-14\n",
      "7.1054274e-14 0.0011597015254665166 7.1054274e-14\n",
      "7.1054274e-14 0.0011597015254665166 7.1054274e-14\n",
      "1 69\n",
      "Decision Best 68 1\n",
      "0.0 0.0 0.0\n",
      "0.0 0.0 0.0\n",
      "0.0 0.0 0.0\n",
      "1 68\n",
      "Decision Best 70 1\n",
      "0.0 0.0 0.0\n",
      "0.0 0.0 0.0\n",
      "0.0 0.0 0.0\n",
      "1 70\n",
      "linear Best 91 0\n"
     ]
    },
    {
     "name": "stdout",
     "output_type": "stream",
     "text": [
      "0.052968834 0.09753407165408134 0.052968834\n",
      "0.052968834 0.09753407165408134 0.052968834\n",
      "0.052968834 0.09753407165408134 0.052968834\n",
      "0 91\n",
      "linear Best 83 1\n",
      "0.03368601 0.05052901245653629 0.03368601\n",
      "0.03368601 0.05052901245653629 0.03368601\n",
      "0.03368601 0.05052901245653629 0.03368601\n",
      "1 83\n",
      "linear Best 77 2\n",
      "0.010439064 0.020882445853203535 0.010439064\n",
      "0.010439064 0.020882445853203535 0.010439064\n",
      "0.010439064 0.020882445853203535 0.010439064\n",
      "2 77\n",
      "linear Best 72 2\n",
      "0.001292717 0.0132679995149374 0.001292717\n",
      "0.001292717 0.0132679995149374 0.001292717\n",
      "0.001292717 0.0132679995149374 0.001292717\n",
      "2 72\n",
      "linear Best 73 0\n",
      "0.0005850073 0.0009152117127086967 0.0005850073\n",
      "0.0005850073 0.0009152117127086967 0.0005850073\n",
      "0.0005850073 0.0009152117127086967 0.0005850073\n",
      "0 73\n",
      "linear Best 75 1\n",
      "7.1054274e-14 0.0011597015254665166 7.1054274e-14\n",
      "7.1054274e-14 0.0011597015254665166 7.1054274e-14\n",
      "7.1054274e-14 0.0011597015254665166 7.1054274e-14\n",
      "1 75\n",
      "Decision Best 74 2\n",
      "0.0 0.0 0.0\n",
      "0.0 0.0 0.0\n",
      "0.0 0.0 0.0\n",
      "2 74\n",
      "Decision Best 76 0\n",
      "0.0 0.0 0.0\n",
      "0.0 0.0 0.0\n",
      "0.0 0.0 0.0\n",
      "0 76\n",
      "linear Best 78 1\n",
      "0.001292717 0.0132679995149374 0.001292717\n",
      "0.001292717 0.0132679995149374 0.001292717\n",
      "0.001292717 0.0132679995149374 0.001292717\n",
      "1 78\n",
      "linear Best 79 0\n",
      "0.0005850073 0.0009152117127086967 0.0005850073\n",
      "0.0005850073 0.0009152117127086967 0.0005850073\n",
      "0.0005850073 0.0009152117127086967 0.0005850073\n",
      "0 79\n",
      "linear Best 81 2\n",
      "7.1054274e-14 1.0658141036401503e-13 7.1054274e-14\n",
      "7.1054274e-14 1.0658141036401503e-13 7.1054274e-14\n",
      "7.1054274e-14 1.0658141036401503e-13 7.1054274e-14\n",
      "2 81\n",
      "Decision Best 80 2\n",
      "0.0 0.0 0.0\n",
      "0.0 0.0 0.0\n",
      "0.0 0.0 0.0\n",
      "2 80\n",
      "Decision Best 82 1\n",
      "0.0 0.0 0.0\n",
      "0.0 0.0 0.0\n",
      "0.0 0.0 0.0\n",
      "1 82\n",
      "linear Best 85 1\n",
      "0.0016455492 0.009889737702906132 0.0016455492\n",
      "0.0016455492 0.009889737702906132 0.0016455492\n",
      "0.0016455492 0.009889737702906132 0.0016455492\n",
      "1 85\n",
      "Decision Best 84 0\n",
      "0.0 0.0 0.0\n",
      "0.0 0.0 0.0\n",
      "0.0 0.0 0.0\n",
      "0 84\n",
      "linear Best 86 0\n",
      "0.001292717 0.0132679995149374 0.001292717\n",
      "0.001292717 0.0132679995149374 0.001292717\n",
      "0.001292717 0.0132679995149374 0.001292717\n",
      "0 86\n",
      "linear Best 87 1\n",
      "0.0005850073 0.0009152117127086967 0.0005850073\n",
      "0.0005850073 0.0009152117127086967 0.0005850073\n",
      "0.0005850073 0.0009152117127086967 0.0005850073\n",
      "1 87\n",
      "linear Best 89 1\n",
      "7.1054274e-14 0.0011597015254665166 7.1054274e-14\n",
      "7.1054274e-14 0.0011597015254665166 7.1054274e-14\n",
      "7.1054274e-14 0.0011597015254665166 7.1054274e-14\n",
      "1 89\n",
      "Decision Best 88 2\n",
      "0.0 0.0 0.0\n",
      "0.0 0.0 0.0\n",
      "0.0 0.0 0.0\n",
      "2 88\n",
      "Decision Best 90 0\n",
      "0.0 0.0 0.0\n",
      "0.0 0.0 0.0\n",
      "0.0 0.0 0.0\n",
      "0 90\n",
      "linear Best 111 1\n",
      "0.055434987 0.0973641648888588 0.055434987\n",
      "0.055434987 0.0973641648888588 0.055434987\n",
      "0.055434987 0.0973641648888588 0.055434987\n",
      "1 111\n",
      "Decision Best 106 2\n",
      "0.03162680100649595 0.03162680100649595 0.03368601\n",
      "0.03162680100649595 0.03162680100649595 0.03368601\n",
      "0.03162680100649595 0.03162680100649595 0.03368601\n",
      "2 106\n",
      "linear Best 97 0\n",
      "0.010029495 0.02052540611475706 0.010029495\n",
      "0.010029495 0.02052540611475706 0.010029495\n",
      "0.010029495 0.02052540611475706 0.010029495\n",
      "0 97\n",
      "linear Best 92 1\n",
      "0.001292717 0.0132679995149374 0.001292717\n",
      "0.001292717 0.0132679995149374 0.001292717\n",
      "0.001292717 0.0132679995149374 0.001292717\n",
      "1 92\n",
      "linear Best 93 2\n",
      "0.0005850073 0.012732221279293299 0.0005850073\n",
      "0.0005850073 0.012732221279293299 0.0005850073\n",
      "0.0005850073 0.012732221279293299 0.0005850073\n",
      "2 93\n",
      "linear Best 95 1\n",
      "7.1054274e-14 1.0658141036401503e-13 7.1054274e-14\n",
      "7.1054274e-14 1.0658141036401503e-13 7.1054274e-14\n",
      "7.1054274e-14 1.0658141036401503e-13 7.1054274e-14\n",
      "1 95\n",
      "Decision Best 94 1\n",
      "0.0 0.0 0.0\n",
      "0.0 0.0 0.0\n",
      "0.0 0.0 0.0\n",
      "1 94\n",
      "Decision Best 96 1\n",
      "0.0 0.0 0.0\n",
      "0.0 0.0 0.0\n",
      "0.0 0.0 0.0\n",
      "1 96\n",
      "linear Best 99 2\n",
      "0.0022922663 0.012282632756978273 0.0022922663\n",
      "0.0022922663 0.012282632756978273 0.0022922663\n",
      "0.0022922663 0.012282632756978273 0.0022922663\n",
      "2 99\n",
      "Decision Best 98 2\n",
      "0.0 0.0 0.0\n",
      "0.0 0.0 0.0\n",
      "0.0 0.0 0.0\n",
      "2 98\n",
      "linear Best 101 0\n",
      "0.001615769 0.008738758508116007 0.001615769\n",
      "0.001615769 0.008738758508116007 0.001615769\n",
      "0.001615769 0.008738758508116007 0.001615769\n",
      "0 101\n",
      "Decision Best 100 0\n",
      "0.0 0.0 0.0\n",
      "0.0 0.0 0.0\n",
      "0.0 0.0 0.0\n",
      "0 100\n",
      "linear Best 102 1\n",
      "0.0005850073 0.010798632865771651 0.0005850073\n",
      "0.0005850073 0.010798632865771651 0.0005850073\n",
      "0.0005850073 0.010798632865771651 0.0005850073\n",
      "1 102\n",
      "linear Best 104 1\n",
      "7.1054274e-14 0.012732221279293299 7.1054274e-14\n",
      "7.1054274e-14 0.012732221279293299 7.1054274e-14\n",
      "7.1054274e-14 0.012732221279293299 7.1054274e-14\n",
      "1 104\n",
      "Decision Best 103 0\n",
      "0.0 0.0 0.0\n",
      "0.0 0.0 0.0\n",
      "0.0 0.0 0.0\n",
      "0 103\n",
      "Decision Best 105 0\n",
      "0.0 0.0 0.0\n",
      "0.0 0.0 0.0\n",
      "0.0 0.0 0.0\n",
      "0 105\n",
      "linear Best 107 1\n",
      "0.0005850073 0.0009152117127086967 0.0005850073\n",
      "0.0005850073 0.0009152117127086967 0.0005850073\n",
      "0.0005850073 0.0009152117127086967 0.0005850073\n",
      "1 107\n",
      "linear Best 109 0\n",
      "7.1054274e-14 0.0011597015254665166 7.1054274e-14\n",
      "7.1054274e-14 0.0011597015254665166 7.1054274e-14\n",
      "7.1054274e-14 0.0011597015254665166 7.1054274e-14\n",
      "0 109\n",
      "Decision Best 108 1\n",
      "0.0 0.0 0.0\n",
      "0.0 0.0 0.0\n",
      "0.0 0.0 0.0\n",
      "1 108\n",
      "Decision Best 110 0\n",
      "0.0 0.0 0.0\n",
      "0.0 0.0 0.0\n",
      "0.0 0.0 0.0\n",
      "0 110\n",
      "linear Best 113 2\n",
      "0.0022922663 0.008227613288909197 0.0022922663\n",
      "0.0022922663 0.008227613288909197 0.0022922663\n",
      "0.0022922663 0.008227613288909197 0.0022922663\n",
      "2 113\n",
      "Decision Best 112 1\n",
      "0.0 0.0 0.0\n",
      "0.0 0.0 0.0\n",
      "0.0 0.0 0.0\n",
      "1 112\n",
      "linear Best 115 0\n",
      "0.001615769 0.012714152690023184 0.001615769\n",
      "0.001615769 0.012714152690023184 0.001615769\n",
      "0.001615769 0.012714152690023184 0.001615769\n",
      "0 115\n",
      "Decision Best 114 2\n",
      "0.0 0.0 0.0\n",
      "0.0 0.0 0.0\n",
      "0.0 0.0 0.0\n",
      "2 114\n",
      "linear Best 116 0\n",
      "0.0005850073 0.0009152117127086967 0.0005850073\n",
      "0.0005850073 0.0009152117127086967 0.0005850073\n",
      "0.0005850073 0.0009152117127086967 0.0005850073\n",
      "0 116\n",
      "linear Best 118 1\n",
      "7.1054274e-14 1.0658141036401503e-13 7.1054274e-14\n",
      "7.1054274e-14 1.0658141036401503e-13 7.1054274e-14\n",
      "7.1054274e-14 1.0658141036401503e-13 7.1054274e-14\n",
      "1 118\n",
      "Decision Best 117 1\n",
      "0.0 0.0 0.0\n",
      "0.0 0.0 0.0\n",
      "0.0 0.0 0.0\n",
      "1 117\n",
      "Decision Best 119 2\n",
      "0.0 0.0 0.0\n",
      "0.0 0.0 0.0\n",
      "0.0 0.0 0.0\n",
      "2 119\n",
      "1 90\n"
     ]
    },
    {
     "data": {
      "text/plain": [
       "DecisionTreeRegressor(max_depth=1)"
      ]
     },
     "execution_count": 26,
     "metadata": {},
     "output_type": "execute_result"
    }
   ],
   "source": [
    "reg1.fit(X_train, y_train)\n",
    "reg2.fit(X_train, y_train)\n",
    "reg3.fit(X_train, y_train)\n",
    "reg4.fit(X_train, y_train)\n",
    "reg5.fit(X_train, y_train)"
   ]
  },
  {
   "cell_type": "code",
   "execution_count": 27,
   "metadata": {},
   "outputs": [],
   "source": [
    "y_pred1 = reg1.predict(X_test)\n",
    "y_pred2 = reg2.predict(X_test)\n",
    "y_pred3 = reg3.predict(X_test)\n",
    "y_pred4 = reg4.predict(X_test)\n",
    "y_pred5 = reg5.predict(X_test)"
   ]
  },
  {
   "cell_type": "code",
   "execution_count": 28,
   "metadata": {},
   "outputs": [
    {
     "name": "stdout",
     "output_type": "stream",
     "text": [
      "Mean squared error: 0.22\n",
      "Mean squared error: 26.73\n",
      "Mean squared error: 33.97\n",
      "Mean squared error: 32.59\n",
      "Mean squared error: 23.56\n"
     ]
    }
   ],
   "source": [
    "print('Mean squared error: %.2f'% mean_squared_error(y_test, y_pred1))\n",
    "print('Mean squared error: %.2f'% mean_squared_error(y_test, y_pred2))\n",
    "print('Mean squared error: %.2f'% mean_squared_error(y_test, y_pred3))\n",
    "print('Mean squared error: %.2f'% mean_squared_error(y_test, y_pred4))\n",
    "print('Mean squared error: %.2f'% mean_squared_error(y_test, y_pred5))"
   ]
  },
  {
   "cell_type": "code",
   "execution_count": 29,
   "metadata": {},
   "outputs": [
    {
     "data": {
      "image/png": "[encoded data removed]",
      "text/plain": [
       "<Figure size 432x288 with 1 Axes>"
      ]
     },
     "metadata": {
      "needs_background": "light"
     },
     "output_type": "display_data"
    },
    {
     "data": {
      "image/png": "[encoded data removed]",
      "text/plain": [
       "<Figure size 432x288 with 1 Axes>"
      ]
     },
     "metadata": {
      "needs_background": "light"
     },
     "output_type": "display_data"
    },
    {
     "data": {
      "image/png": "[encoded data removed]",
      "text/plain": [
       "<Figure size 432x288 with 1 Axes>"
      ]
     },
     "metadata": {
      "needs_background": "light"
     },
     "output_type": "display_data"
    }
   ],
   "source": [
    "for i in range(X_train.shape[1]):\n",
    "    plt.scatter(X_train[:, i], y_train,  color='black')\n",
    "    plt.scatter(X_train[:, i], reg1.predict(X_train),  color='blue')\n",
    "    plt.scatter(X_train[:, i], reg4.predict(X_train),  color='green')\n",
    "    plt.show()"
   ]
  },
  {
   "cell_type": "code",
   "execution_count": 21,
   "metadata": {},
   "outputs": [
    {
     "data": {
      "image/png": "[encoded data removed]",
      "text/plain": [
       "<Figure size 432x288 with 1 Axes>"
      ]
     },
     "metadata": {
      "needs_background": "light"
     },
     "output_type": "display_data"
    },
    {
     "data": {
      "image/png": "[encoded data removed]",
      "text/plain": [
       "<Figure size 432x288 with 1 Axes>"
      ]
     },
     "metadata": {
      "needs_background": "light"
     },
     "output_type": "display_data"
    },
    {
     "data": {
      "image/png": "[encoded data removed]",
      "text/plain": [
       "<Figure size 432x288 with 1 Axes>"
      ]
     },
     "metadata": {
      "needs_background": "light"
     },
     "output_type": "display_data"
    },
    {
     "data": {
      "image/png": "[encoded data removed]",
      "text/plain": [
       "<Figure size 432x288 with 1 Axes>"
      ]
     },
     "metadata": {
      "needs_background": "light"
     },
     "output_type": "display_data"
    },
    {
     "data": {
      "image/png": "[encoded data removed]",
      "text/plain": [
       "<Figure size 432x288 with 1 Axes>"
      ]
     },
     "metadata": {
      "needs_background": "light"
     },
     "output_type": "display_data"
    },
    {
     "data": {
      "image/png": "[encoded data removed]",
      "text/plain": [
       "<Figure size 432x288 with 1 Axes>"
      ]
     },
     "metadata": {
      "needs_background": "light"
     },
     "output_type": "display_data"
    },
    {
     "data": {
      "image/png": "[encoded data removed]",
      "text/plain": [
       "<Figure size 432x288 with 1 Axes>"
      ]
     },
     "metadata": {
      "needs_background": "light"
     },
     "output_type": "display_data"
    },
    {
     "data": {
      "image/png": "[encoded data removed]",
      "text/plain": [
       "<Figure size 432x288 with 1 Axes>"
      ]
     },
     "metadata": {
      "needs_background": "light"
     },
     "output_type": "display_data"
    },
    {
     "data": {
      "image/png": "[encoded data removed]",
      "text/plain": [
       "<Figure size 432x288 with 1 Axes>"
      ]
     },
     "metadata": {
      "needs_background": "light"
     },
     "output_type": "display_data"
    },
    {
     "data": {
      "image/png": "[encoded data removed]",
      "text/plain": [
       "<Figure size 432x288 with 1 Axes>"
      ]
     },
     "metadata": {
      "needs_background": "light"
     },
     "output_type": "display_data"
    },
    {
     "data": {
      "image/png": "[encoded data removed]",
      "text/plain": [
       "<Figure size 432x288 with 1 Axes>"
      ]
     },
     "metadata": {
      "needs_background": "light"
     },
     "output_type": "display_data"
    },
    {
     "data": {
      "image/png": "[encoded data removed]",
      "text/plain": [
       "<Figure size 432x288 with 1 Axes>"
      ]
     },
     "metadata": {
      "needs_background": "light"
     },
     "output_type": "display_data"
    },
    {
     "data": {
      "image/png": "[encoded data removed]",
      "text/plain": [
       "<Figure size 432x288 with 1 Axes>"
      ]
     },
     "metadata": {
      "needs_background": "light"
     },
     "output_type": "display_data"
    },
    {
     "data": {
      "image/png": "[encoded data removed]",
      "text/plain": [
       "<Figure size 432x288 with 1 Axes>"
      ]
     },
     "metadata": {
      "needs_background": "light"
     },
     "output_type": "display_data"
    },
    {
     "data": {
      "image/png": "[encoded data removed]",
      "text/plain": [
       "<Figure size 432x288 with 1 Axes>"
      ]
     },
     "metadata": {
      "needs_background": "light"
     },
     "output_type": "display_data"
    },
    {
     "data": {
      "image/png": "[encoded data removed]",
      "text/plain": [
       "<Figure size 432x288 with 1 Axes>"
      ]
     },
     "metadata": {
      "needs_background": "light"
     },
     "output_type": "display_data"
    },
    {
     "data": {
      "image/png": "[encoded data removed]",
      "text/plain": [
       "<Figure size 432x288 with 1 Axes>"
      ]
     },
     "metadata": {
      "needs_background": "light"
     },
     "output_type": "display_data"
    },
    {
     "data": {
      "image/png": "[encoded data removed]",
      "text/plain": [
       "<Figure size 432x288 with 1 Axes>"
      ]
     },
     "metadata": {
      "needs_background": "light"
     },
     "output_type": "display_data"
    },
    {
     "data": {
      "image/png": "[encoded data removed]",
      "text/plain": [
       "<Figure size 432x288 with 1 Axes>"
      ]
     },
     "metadata": {
      "needs_background": "light"
     },
     "output_type": "display_data"
    },
    {
     "data": {
      "image/png": "[encoded data removed]",
      "text/plain": [
       "<Figure size 432x288 with 1 Axes>"
      ]
     },
     "metadata": {
      "needs_background": "light"
     },
     "output_type": "display_data"
    }
   ],
   "source": [
    "for i in range(X_test.shape[1]):\n",
    "    plt.scatter(X_test[:, i], y_test,  color='black')\n",
    "    plt.scatter(X_test[:, i], y_pred1, color='blue')\n",
    "    plt.show()\n",
    "\n",
    "    plt.scatter(X_test[:, i], y_test,  color='black')\n",
    "    plt.scatter(X_test[:, i],y_pred2, color='orange')\n",
    "    plt.show()\n",
    "\n",
    "    plt.scatter(X_test[:, i], y_test,  color='black')\n",
    "    plt.scatter(X_test[:, i],y_pred3, color='red')\n",
    "    plt.show()\n",
    "\n",
    "    plt.scatter(X_test[:, i], y_test,  color='black')\n",
    "    plt.scatter(X_test[:, i], y_pred4, color='green')\n",
    "    plt.show()\n",
    "\n",
    "    plt.scatter(X_test[:, i], y_test,  color='black')\n",
    "    plt.scatter(X_test[:, i], y_pred5, color='purple')\n",
    "    plt.show()"
   ]
  },
  {
   "cell_type": "code",
   "execution_count": null,
   "metadata": {},
   "outputs": [],
   "source": []
  }
 ],
 "metadata": {
  "kernelspec": {
   "display_name": "Python 3",
   "language": "python",
   "name": "python3"
  },
  "language_info": {
   "codemirror_mode": {
    "name": "ipython",
    "version": 3
   },
   "file_extension": ".py",
   "mimetype": "text/x-python",
   "name": "python",
   "nbconvert_exporter": "python",
   "pygments_lexer": "ipython3",
   "version": "3.8.3"
  }
 },
 "nbformat": 4,
 "nbformat_minor": 4
}
